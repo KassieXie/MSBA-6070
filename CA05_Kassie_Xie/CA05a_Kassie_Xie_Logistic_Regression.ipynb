{
  "nbformat": 4,
  "nbformat_minor": 0,
  "metadata": {
    "colab": {
      "name": "CA05a_Kassie_Xie_Logistic_Regression",
      "provenance": [],
      "collapsed_sections": []
    },
    "kernelspec": {
      "display_name": "Python 3",
      "name": "python3"
    }
  },
  "cells": [
    {
      "cell_type": "code",
      "metadata": {
        "id": "zA-gni9iqW6U"
      },
      "source": [
        "import pandas as pd\n",
        "import numpy as np\n",
        "from termcolor import colored as cl\n",
        "from sklearn.model_selection import train_test_split\n",
        "from sklearn.linear_model import LogisticRegression\n",
        "from sklearn.preprocessing import StandardScaler\n",
        "from sklearn.metrics import jaccard_similarity_score as jss \n",
        "from sklearn.metrics import precision_score\n",
        "from sklearn.metrics import classification_report\n",
        "from sklearn.metrics import confusion_matrix\n",
        "from sklearn.metrics import log_loss\n",
        "%matplotlib inline\n",
        "\n",
        "#read data\n",
        "df = pd.read_csv(filepath_or_buffer='/content/cvd_data.csv') "
      ],
      "execution_count": 1,
      "outputs": []
    },
    {
      "cell_type": "code",
      "metadata": {
        "id": "3qmV7DpsrQBf",
        "colab": {
          "base_uri": "https://localhost:8080/",
          "height": 160
        },
        "outputId": "697def99-4e93-42be-c9cf-15b64ad37e02"
      },
      "source": [
        "#Show the first 3 rows of the data\n",
        "df.head(3)"
      ],
      "execution_count": 2,
      "outputs": [
        {
          "output_type": "execute_result",
          "data": {
            "text/html": [
              "<div>\n",
              "<style scoped>\n",
              "    .dataframe tbody tr th:only-of-type {\n",
              "        vertical-align: middle;\n",
              "    }\n",
              "\n",
              "    .dataframe tbody tr th {\n",
              "        vertical-align: top;\n",
              "    }\n",
              "\n",
              "    .dataframe thead th {\n",
              "        text-align: right;\n",
              "    }\n",
              "</style>\n",
              "<table border=\"1\" class=\"dataframe\">\n",
              "  <thead>\n",
              "    <tr style=\"text-align: right;\">\n",
              "      <th></th>\n",
              "      <th>cvd_4types</th>\n",
              "      <th>age_s1</th>\n",
              "      <th>race</th>\n",
              "      <th>educat</th>\n",
              "      <th>mstat</th>\n",
              "      <th>hip</th>\n",
              "      <th>neck20</th>\n",
              "      <th>waist</th>\n",
              "      <th>av_weight_kg</th>\n",
              "      <th>cgpkyr</th>\n",
              "      <th>tea15</th>\n",
              "      <th>srhype</th>\n",
              "      <th>parrptdiab</th>\n",
              "      <th>bend25</th>\n",
              "      <th>happy25</th>\n",
              "      <th>tired25</th>\n",
              "      <th>hlthlm25</th>\n",
              "    </tr>\n",
              "  </thead>\n",
              "  <tbody>\n",
              "    <tr>\n",
              "      <th>0</th>\n",
              "      <td>0</td>\n",
              "      <td>54</td>\n",
              "      <td>1</td>\n",
              "      <td>2</td>\n",
              "      <td>1</td>\n",
              "      <td>110.0</td>\n",
              "      <td>40.0</td>\n",
              "      <td>108.0</td>\n",
              "      <td>87.5</td>\n",
              "      <td>34.0</td>\n",
              "      <td>0</td>\n",
              "      <td>1</td>\n",
              "      <td>0</td>\n",
              "      <td>1</td>\n",
              "      <td>2</td>\n",
              "      <td>3</td>\n",
              "      <td>4</td>\n",
              "    </tr>\n",
              "    <tr>\n",
              "      <th>1</th>\n",
              "      <td>0</td>\n",
              "      <td>56</td>\n",
              "      <td>3</td>\n",
              "      <td>2</td>\n",
              "      <td>1</td>\n",
              "      <td>113.0</td>\n",
              "      <td>34.0</td>\n",
              "      <td>107.0</td>\n",
              "      <td>83.5</td>\n",
              "      <td>0.0</td>\n",
              "      <td>0</td>\n",
              "      <td>0</td>\n",
              "      <td>0</td>\n",
              "      <td>2</td>\n",
              "      <td>2</td>\n",
              "      <td>1</td>\n",
              "      <td>3</td>\n",
              "    </tr>\n",
              "    <tr>\n",
              "      <th>2</th>\n",
              "      <td>0</td>\n",
              "      <td>54</td>\n",
              "      <td>1</td>\n",
              "      <td>3</td>\n",
              "      <td>1</td>\n",
              "      <td>110.0</td>\n",
              "      <td>44.5</td>\n",
              "      <td>105.0</td>\n",
              "      <td>86.2</td>\n",
              "      <td>49.5</td>\n",
              "      <td>0</td>\n",
              "      <td>0</td>\n",
              "      <td>0</td>\n",
              "      <td>3</td>\n",
              "      <td>2</td>\n",
              "      <td>6</td>\n",
              "      <td>4</td>\n",
              "    </tr>\n",
              "  </tbody>\n",
              "</table>\n",
              "</div>"
            ],
            "text/plain": [
              "   cvd_4types  age_s1  race  educat  ...  bend25  happy25  tired25  hlthlm25\n",
              "0           0      54     1       2  ...       1        2        3         4\n",
              "1           0      56     3       2  ...       2        2        1         3\n",
              "2           0      54     1       3  ...       3        2        6         4\n",
              "\n",
              "[3 rows x 17 columns]"
            ]
          },
          "metadata": {
            "tags": []
          },
          "execution_count": 2
        }
      ]
    },
    {
      "cell_type": "code",
      "metadata": {
        "id": "tHm3LydZ2Eme",
        "colab": {
          "base_uri": "https://localhost:8080/"
        },
        "outputId": "c065ed7c-ed4f-46cb-ebe9-1d70da1dddb7"
      },
      "source": [
        "#Check whether each column contains null value and/or non-values\n",
        "df.isnull().sum()"
      ],
      "execution_count": 3,
      "outputs": [
        {
          "output_type": "execute_result",
          "data": {
            "text/plain": [
              "cvd_4types      0\n",
              "age_s1          0\n",
              "race            0\n",
              "educat          0\n",
              "mstat           0\n",
              "hip             0\n",
              "neck20          0\n",
              "waist           0\n",
              "av_weight_kg    0\n",
              "cgpkyr          0\n",
              "tea15           0\n",
              "srhype          0\n",
              "parrptdiab      0\n",
              "bend25          0\n",
              "happy25         0\n",
              "tired25         0\n",
              "hlthlm25        0\n",
              "dtype: int64"
            ]
          },
          "metadata": {
            "tags": []
          },
          "execution_count": 3
        }
      ]
    },
    {
      "cell_type": "code",
      "metadata": {
        "id": "srpC36Fyyqi3",
        "colab": {
          "base_uri": "https://localhost:8080/"
        },
        "outputId": "c9a02c25-01ff-43b6-8260-0a59c8d2a0bb"
      },
      "source": [
        "#get more column information \n",
        "df.info()"
      ],
      "execution_count": 4,
      "outputs": [
        {
          "output_type": "stream",
          "text": [
            "<class 'pandas.core.frame.DataFrame'>\n",
            "RangeIndex: 3242 entries, 0 to 3241\n",
            "Data columns (total 17 columns):\n",
            " #   Column        Non-Null Count  Dtype  \n",
            "---  ------        --------------  -----  \n",
            " 0   cvd_4types    3242 non-null   int64  \n",
            " 1   age_s1        3242 non-null   int64  \n",
            " 2   race          3242 non-null   int64  \n",
            " 3   educat        3242 non-null   int64  \n",
            " 4   mstat         3242 non-null   int64  \n",
            " 5   hip           3242 non-null   float64\n",
            " 6   neck20        3242 non-null   float64\n",
            " 7   waist         3242 non-null   float64\n",
            " 8   av_weight_kg  3242 non-null   float64\n",
            " 9   cgpkyr        3242 non-null   float64\n",
            " 10  tea15         3242 non-null   int64  \n",
            " 11  srhype        3242 non-null   int64  \n",
            " 12  parrptdiab    3242 non-null   int64  \n",
            " 13  bend25        3242 non-null   int64  \n",
            " 14  happy25       3242 non-null   int64  \n",
            " 15  tired25       3242 non-null   int64  \n",
            " 16  hlthlm25      3242 non-null   int64  \n",
            "dtypes: float64(5), int64(12)\n",
            "memory usage: 430.7 KB\n"
          ],
          "name": "stdout"
        }
      ]
    },
    {
      "cell_type": "markdown",
      "metadata": {
        "id": "DJH2rHFpYXpA"
      },
      "source": [
        "#Part I: \n",
        "##Build a binary classifier model to predict the CVD Risk (Yes/No, or 1/0) using a Logistic Regression Model with the best performance possible"
      ]
    },
    {
      "cell_type": "code",
      "metadata": {
        "id": "J9igVBWU2PM4",
        "colab": {
          "base_uri": "https://localhost:8080/"
        },
        "outputId": "836c2f79-0560-49ee-f465-b6000b315090"
      },
      "source": [
        "#CVD Risk: col'cvd_4types'\n",
        "    #0 indicates “No Risk”, 1 indicates “Risk Present”\n",
        "\n",
        "#A general look for the counts of 0 and 1 \n",
        "df['cvd_4types'].value_counts()"
      ],
      "execution_count": 5,
      "outputs": [
        {
          "output_type": "execute_result",
          "data": {
            "text/plain": [
              "1    1913\n",
              "0    1329\n",
              "Name: cvd_4types, dtype: int64"
            ]
          },
          "metadata": {
            "tags": []
          },
          "execution_count": 5
        }
      ]
    },
    {
      "cell_type": "code",
      "metadata": {
        "colab": {
          "base_uri": "https://localhost:8080/"
        },
        "id": "4cLMsvnletkv",
        "outputId": "1a86fb27-0a7c-46dd-a355-f50ffb868f53"
      },
      "source": [
        "#define independent variable as x variable\n",
        "#define dependent variable as y variable\n",
        "X_var = np.asarray(df.drop(['cvd_4types'], axis=1))\n",
        "y_var = np.asarray(df['cvd_4types'])\n",
        "\n",
        "#display how the variables look like within the first 5 indexes\n",
        "print(cl('X_var samples : ', attrs = ['bold']), X_var[:5])\n",
        "print(cl('y_var samples : ', attrs = ['bold']), y_var[:5])"
      ],
      "execution_count": 6,
      "outputs": [
        {
          "output_type": "stream",
          "text": [
            "\u001b[1mX_var samples : \u001b[0m [[ 54.    1.    2.    1.  110.   40.  108.   87.5  34.    0.    1.    0.\n",
            "    1.    2.    3.    4. ]\n",
            " [ 56.    3.    2.    1.  113.   34.  107.   83.5   0.    0.    0.    0.\n",
            "    2.    2.    1.    3. ]\n",
            " [ 54.    1.    3.    1.  110.   44.5 105.   86.2  49.5   0.    0.    0.\n",
            "    3.    2.    6.    4. ]\n",
            " [ 54.    1.    3.    1.  129.   42.5 110.   89.1   0.    0.    0.    0.\n",
            "    3.    2.    1.    3. ]\n",
            " [ 51.    3.    2.    1.  122.   37.  113.   81.3   0.    0.    0.    0.\n",
            "    2.    1.    1.    2. ]]\n",
            "\u001b[1my_var samples : \u001b[0m [0 0 0 0 0]\n"
          ],
          "name": "stdout"
        }
      ]
    },
    {
      "cell_type": "code",
      "metadata": {
        "colab": {
          "base_uri": "https://localhost:8080/"
        },
        "id": "io43TO2wg0NL",
        "outputId": "d3242c74-256d-49f4-d802-9a079fd6afa9"
      },
      "source": [
        "#normalize indendent variable: X_var\n",
        "\n",
        "X_var = StandardScaler().fit(X_var).transform(X_var)\n",
        "\n",
        "print(cl(X_var[:5], attrs=['bold']))"
      ],
      "execution_count": 7,
      "outputs": [
        {
          "output_type": "stream",
          "text": [
            "\u001b[1m[[-1.04134264 -0.26437623 -0.46765456 -0.39476179  0.44705227  0.59733167\n",
            "   0.793625    0.58025187  1.04675898 -0.34687552  1.43173283 -0.26915533\n",
            "  -2.19295058 -0.29563183 -1.266204    0.2199811 ]\n",
            " [-0.84901445  5.31938748 -0.46765456 -0.39476179  0.73891467 -0.86595064\n",
            "   0.72007375  0.0705964  -0.64028226 -0.34687552 -0.69845433 -0.26915533\n",
            "  -0.70497532 -0.29563183 -3.22517959 -1.40828086]\n",
            " [-1.04134264 -0.26437623  0.96536632 -0.39476179  0.44705227  1.6947934\n",
            "   0.57297125  0.41461384  1.81585131 -0.34687552 -0.69845433 -0.26915533\n",
            "   0.78299994 -0.29563183  1.67225939  0.2199811 ]\n",
            " [-1.04134264 -0.26437623  0.96536632 -0.39476179  2.29551415  1.20703263\n",
            "   0.94072749  0.78411406 -0.64028226 -0.34687552 -0.69845433 -0.26915533\n",
            "   0.78299994 -0.29563183 -3.22517959 -1.40828086]\n",
            " [-1.32983492  5.31938748 -0.46765456 -0.39476179  1.61450188 -0.13430949\n",
            "   1.16138123 -0.20971411 -0.64028226 -0.34687552 -0.69845433 -0.26915533\n",
            "  -0.70497532 -1.34655112 -3.22517959 -3.03654282]]\u001b[0m\n"
          ],
          "name": "stdout"
        }
      ]
    },
    {
      "cell_type": "code",
      "metadata": {
        "colab": {
          "base_uri": "https://localhost:8080/"
        },
        "id": "iEZZUBYP3N95",
        "outputId": "adc734a2-c14e-415e-9ec0-8973f537003d"
      },
      "source": [
        "#split data to training and testing\n",
        "X_train, X_test, y_train, y_test = train_test_split(X_var,\n",
        "                                                    y_var,\n",
        "                                                    test_size = 0.3, \n",
        "                                                    random_state = 4)\n",
        "#take a look for the splited data for X and y \n",
        "print(cl('X_train samples : ', attrs = ['bold']), X_train[:5])\n",
        "print(cl('X_test samples : ', attrs = ['bold']), X_test[:5])\n",
        "print(cl('y_train samples : ', attrs = ['bold']), y_train[:10])\n",
        "print(cl('y_test samples : ', attrs = ['bold']), y_test[:10])"
      ],
      "execution_count": 8,
      "outputs": [
        {
          "output_type": "stream",
          "text": [
            "\u001b[1mX_train samples : \u001b[0m [[-1.7144913  -0.26437623 -0.46765456 -0.39476179  0.37116804 -0.50013006\n",
            "  -0.2375635   3.98220214 -0.5906634   2.06809317 -0.69845433 -0.26915533\n",
            "  -2.19295058  0.75528746 -0.2867162  -1.40828086]\n",
            " [ 0.40111877 -0.26437623  0.96536632 -0.39476179  0.44705227  1.32897282\n",
            "   0.27876626  0.17252749 -0.64028226 -0.34687552 -0.69845433 -0.26915533\n",
            "   0.78299994  0.75528746 -0.2867162   0.2199811 ]\n",
            " [-1.6183272  -0.26437623  0.96536632 -0.39476179 -0.52582241 -0.50013006\n",
            "  -1.33936119 -1.22902505 -0.64028226 -0.34687552 -0.69845433 -0.26915533\n",
            "   0.78299994 -0.29563183  0.6927716   0.2199811 ]\n",
            " [ 0.40111877 -0.26437623 -0.46765456 -0.39476179  0.54433974  1.08509244\n",
            "   0.57297125  1.2300626   1.8902796  -0.34687552 -0.69845433 -0.26915533\n",
            "  -2.19295058 -0.29563183 -2.24569179 -1.40828086]\n",
            " [-0.75285036 -0.26437623 -0.46765456  1.74719254  1.12806454 -0.57329418\n",
            "   0.42586876  0.23623443 -0.64028226  1.26310361 -0.69845433 -0.26915533\n",
            "  -2.19295058 -1.34655112 -0.2867162  -1.40828086]]\n",
            "\u001b[1mX_test samples : \u001b[0m [[ 1.17043152 -0.26437623  0.96536632 -0.39476179 -0.12305229  1.08509244\n",
            "   0.18278188  0.31268275  0.66221282 -0.34687552 -0.69845433 -0.26915533\n",
            "  -0.70497532 -1.34655112  0.6927716   1.84824306]\n",
            " [ 1.17043152 -0.26437623 -0.46765456 -0.39476179 -0.62310988 -0.13430949\n",
            "  -0.53029746 -0.502766   -0.26814081  0.45811405 -0.69845433 -0.26915533\n",
            "   0.78299994 -0.29563183  0.6927716   0.2199811 ]\n",
            " [ 0.78577514 -0.26437623 -0.46765456 -0.39476179 -0.62310988  0.1095709\n",
            "  -0.38319497 -0.01859331  1.69180416 -0.34687552  1.43173283 -0.26915533\n",
            "   0.78299994 -0.29563183 -0.2867162   0.2199811 ]\n",
            " [-0.0797017  -0.26437623  0.96536632 -0.39476179 -0.72039734 -0.13430949\n",
            "  -0.23609247 -0.54099016  0.45133266 -0.34687552 -0.69845433 -0.26915533\n",
            "   0.78299994 -0.29563183  0.6927716   0.2199811 ]\n",
            " [-0.56052217 -0.26437623 -0.46765456 -0.39476179  0.37116804  0.84121205\n",
            "   1.02347264  0.82233822 -0.64028226  0.45811405  1.43173283  3.71532676\n",
            "  -2.19295058  1.80620675 -0.2867162   0.2199811 ]]\n",
            "\u001b[1my_train samples : \u001b[0m [0 1 0 1 0 0 0 1 1 0]\n",
            "\u001b[1my_test samples : \u001b[0m [1 1 0 1 0 0 1 0 0 0]\n"
          ],
          "name": "stdout"
        }
      ]
    },
    {
      "cell_type": "code",
      "metadata": {
        "colab": {
          "base_uri": "https://localhost:8080/"
        },
        "id": "5oGfwlDR4OAx",
        "outputId": "687da396-6e16-4315-a8bf-9d00c849c78b"
      },
      "source": [
        "#logistic regression model using scikit-learn\n",
        "lr = LogisticRegression(C=0.1, solver='liblinear') \n",
        "    #the samller the c, the stronger the regularization\n",
        "lr.fit(X_train,y_train)\n",
        "\n",
        "print(cl(lr, attrs=['bold']))"
      ],
      "execution_count": 9,
      "outputs": [
        {
          "output_type": "stream",
          "text": [
            "\u001b[1mLogisticRegression(C=0.1, class_weight=None, dual=False, fit_intercept=True,\n",
            "                   intercept_scaling=1, l1_ratio=None, max_iter=100,\n",
            "                   multi_class='auto', n_jobs=None, penalty='l2',\n",
            "                   random_state=None, solver='liblinear', tol=0.0001, verbose=0,\n",
            "                   warm_start=False)\u001b[0m\n"
          ],
          "name": "stdout"
        }
      ]
    },
    {
      "cell_type": "code",
      "metadata": {
        "colab": {
          "base_uri": "https://localhost:8080/"
        },
        "id": "KIWsDr5s5PPR",
        "outputId": "0ff79fbe-82dc-47b2-84a4-cd1379b73df3"
      },
      "source": [
        "#predication on our testing set \n",
        "yhat = lr.predict(X_test)\n",
        "yhat_prob = lr.predict_proba(X_test)\n",
        "\n",
        "#take a look for the probability of class 1(y=1) and class 0(y=0)\n",
        "print(cl('yhat samples : ', attrs = ['bold']), yhat[:10])\n",
        "print(cl('yhat_prob samples : ', attrs = ['bold']), yhat_prob[:10])"
      ],
      "execution_count": 10,
      "outputs": [
        {
          "output_type": "stream",
          "text": [
            "\u001b[1myhat samples : \u001b[0m [1 1 1 1 1 1 0 1 0 0]\n",
            "\u001b[1myhat_prob samples : \u001b[0m [[0.45566563 0.54433437]\n",
            " [0.38711372 0.61288628]\n",
            " [0.41519432 0.58480568]\n",
            " [0.27091675 0.72908325]\n",
            " [0.22165387 0.77834613]\n",
            " [0.2787146  0.7212854 ]\n",
            " [0.64895754 0.35104246]\n",
            " [0.36875825 0.63124175]\n",
            " [0.84952444 0.15047556]\n",
            " [0.58338638 0.41661362]]\n"
          ],
          "name": "stdout"
        }
      ]
    },
    {
      "cell_type": "markdown",
      "metadata": {
        "id": "gtmDcFCqalGC"
      },
      "source": [
        "#Part II:\n",
        "##Display the Feature Importance of all the features sorted in the order of decreasing influence on the CVD Risk"
      ]
    },
    {
      "cell_type": "code",
      "metadata": {
        "colab": {
          "base_uri": "https://localhost:8080/"
        },
        "id": "beowzo38arHP",
        "outputId": "1cffc347-1efc-47b8-8a3c-7d1a00d51d2b"
      },
      "source": [
        "#ways to rank features: \n",
        "#coefficient values, RFE(recursive feature eliminiation), SFM(SelectFromModels)\n",
        "\n",
        "#I decide to use SFM method here to display the feature importance\n",
        "\n",
        "features = df.drop(['cvd_4types'], axis=1)\n",
        "from sklearn.feature_selection import SelectFromModel\n",
        "smf = SelectFromModel(lr, threshold =-np.inf)\n",
        "smf.fit(X_train,y_train)\n",
        "feature_idx = smf.get_support()\n",
        "feature_name = features.columns[feature_idx]\n",
        "feature_name\n",
        "\n",
        "print(cl('Most influenced to least influenced features : ', \n",
        "         attrs = ['bold']), feature_name.values)"
      ],
      "execution_count": 11,
      "outputs": [
        {
          "output_type": "stream",
          "text": [
            "\u001b[1mMost influenced to least influenced features : \u001b[0m ['age_s1' 'race' 'educat' 'mstat' 'hip' 'neck20' 'waist' 'av_weight_kg'\n",
            " 'cgpkyr' 'tea15' 'srhype' 'parrptdiab' 'bend25' 'happy25' 'tired25'\n",
            " 'hlthlm25']\n"
          ],
          "name": "stdout"
        }
      ]
    },
    {
      "cell_type": "markdown",
      "metadata": {
        "id": "Duj5GRUjarir"
      },
      "source": [
        "#Part III:\n",
        "##Evaluate the performance of your model (including ROC Curve), explain the performance and draw a meaningful conclusion"
      ]
    },
    {
      "cell_type": "code",
      "metadata": {
        "colab": {
          "base_uri": "https://localhost:8080/"
        },
        "id": "Lvyu_u1ZIWo7",
        "outputId": "59e2490a-eda6-49f9-96c5-4bec8a714367"
      },
      "source": [
        "#1. precision score \n",
        "\n",
        "print(cl('Precision Score of our model is {}'.format(precision_score(y_test, yhat).round(2)), \n",
        "         attrs = ['bold']))\n"
      ],
      "execution_count": 12,
      "outputs": [
        {
          "output_type": "stream",
          "text": [
            "\u001b[1mPrecision Score of our model is 0.68\u001b[0m\n"
          ],
          "name": "stdout"
        }
      ]
    },
    {
      "cell_type": "markdown",
      "metadata": {
        "id": "e5IKChOtP-aX"
      },
      "source": [
        "\n",
        "**Precision is the ratio of correctly predicted positive observations to the total predicted positive observations.**\n",
        "\n",
        "**When it predicts the positive result, 68% of the results are accurate.**"
      ]
    },
    {
      "cell_type": "code",
      "metadata": {
        "colab": {
          "base_uri": "https://localhost:8080/"
        },
        "id": "cbclK_hdPhEQ",
        "outputId": "a6be2f7d-364b-414a-c38b-eea038e8e93a"
      },
      "source": [
        "#2. classification report \n",
        "\n",
        "print(cl(classification_report(y_test, yhat), attrs = ['bold']))"
      ],
      "execution_count": 13,
      "outputs": [
        {
          "output_type": "stream",
          "text": [
            "\u001b[1m              precision    recall  f1-score   support\n",
            "\n",
            "           0       0.65      0.46      0.54       406\n",
            "           1       0.68      0.83      0.75       567\n",
            "\n",
            "    accuracy                           0.67       973\n",
            "   macro avg       0.67      0.64      0.64       973\n",
            "weighted avg       0.67      0.67      0.66       973\n",
            "\u001b[0m\n"
          ],
          "name": "stdout"
        }
      ]
    },
    {
      "cell_type": "markdown",
      "metadata": {
        "id": "O4baZWZxQ26m"
      },
      "source": [
        "**1. Recall is the number of true positives divided by the number of true positives plus the number of false negatives.**\n",
        "\n",
        "**83% of real positivie cases are correctly identified (I am using 83% from class 1 here align with the sklearn default setting).**\n",
        "\n",
        "**Recall is also known as “sensitivity” and “true positive rate” (TPR).**\n",
        "\n",
        "\n",
        "**2. F1 Score is the weighted average of Precision and Recall. It is useful when you need to take both precision and recall into account.**\n",
        "\n",
        "**A perfect model has an F-score of 1.**\n",
        "\n"
      ]
    },
    {
      "cell_type": "code",
      "metadata": {
        "colab": {
          "base_uri": "https://localhost:8080/",
          "height": 295
        },
        "id": "zAACh0yyIp21",
        "outputId": "1720c48d-0311-4bcd-b6d8-cc374964f1e1"
      },
      "source": [
        "#3. ROC curve \n",
        "from sklearn.metrics import roc_curve\n",
        "import matplotlib.pyplot as plt\n",
        "\n",
        "\n",
        "#set up the function for plot the roc curve\n",
        "def plot_roc_curve(fpr,tpr):\n",
        "    plt.plot(fpr, tpr, label='ROC curve')\n",
        "    plt.plot([0, 1], [0, 1], 'k--', label='Random guess')\n",
        "    plt.xlabel('False Positive Rate')\n",
        "    plt.ylabel('True Positive Rate')\n",
        "    plt.title('ROC Curve')\n",
        "    plt.xlim([-0.02, 1])\n",
        "    plt.ylim([0, 1.02])\n",
        "    plt.legend(loc=\"lower right\")\n",
        "    plt.show()\n",
        "\n",
        "fpr,tpr,thresholds = roc_curve(y_test, yhat)\n",
        "plot_roc_curve(fpr,tpr)"
      ],
      "execution_count": 14,
      "outputs": [
        {
          "output_type": "display_data",
          "data": {
            "image/png": "[encoded data removed]",
            "text/plain": [
              "<Figure size 432x288 with 1 Axes>"
            ]
          },
          "metadata": {
            "tags": [],
            "needs_background": "light"
          }
        }
      ]
    },
    {
      "cell_type": "markdown",
      "metadata": {
        "id": "uwV9SDIaohqz"
      },
      "source": [
        "**ROC (Receiver Operating Characteristic) Curve tells us about how good the model can distinguish between two things (here for our CVD Risk is Yes or No).** \n",
        "\n",
        "**The point of perfect classification is the top-left corner of the plot where the TP rate is 1 and the FP rate is 0 — that is, no 1 are classified as 0 and no 0 are classified as 1.**"
      ]
    },
    {
      "cell_type": "code",
      "metadata": {
        "colab": {
          "base_uri": "https://localhost:8080/"
        },
        "id": "vHdSltIqPHKW",
        "outputId": "2f83fb73-4d04-4294-b97b-4e9fe3999e75"
      },
      "source": [
        "#4. log loss (logarithmic loss)\n",
        "\n",
        "print(cl('Log Loss of our model is {}'.format(log_loss(y_test, yhat).round(2)), \n",
        "         attrs = ['bold']))\n"
      ],
      "execution_count": 15,
      "outputs": [
        {
          "output_type": "stream",
          "text": [
            "\u001b[1mLog Loss of our model is 11.32\u001b[0m\n"
          ],
          "name": "stdout"
        }
      ]
    },
    {
      "cell_type": "markdown",
      "metadata": {
        "id": "mzbEAqGyXAJl"
      },
      "source": [
        "**Log-loss is indicative of how close the prediction probability is to the corresponding actual/true value (0 or 1 in case of binary classification).**\n",
        "\n",
        "**The bolder the probabilities, the better will be your Log Loss (closer to zero). It is a measure of uncertainty (you may call it entropy), so a low Log Loss means a low uncertainty/entropy of your model.**\n",
        "\n",
        "**In the worst case, let’s say you predicted 0.5 for all the observations. So log-loss will become -log(0.5) = 0.69. Hence, we can say that anything above 0.6 is a very poor model considering the actual probabilities.**\n",
        "\n",
        "**Since the log loss result here is absurd, there might be an error occured. Thus I decide to put this result aside temporarily.**"
      ]
    }
  ]
}