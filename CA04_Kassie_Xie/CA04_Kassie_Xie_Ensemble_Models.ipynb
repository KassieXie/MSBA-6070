{
  "nbformat": 4,
  "nbformat_minor": 0,
  "metadata": {
    "colab": {
      "name": "CA04_Kassie_Xie_Ensemble_Models.ipynb",
      "provenance": [],
      "collapsed_sections": []
    },
    "kernelspec": {
      "name": "python3",
      "display_name": "Python 3"
    }
  },
  "cells": [
    {
      "cell_type": "code",
      "metadata": {
        "id": "IfeZVk6G1iFa"
      },
      "source": [
        "# import packages \r\n",
        "\r\n",
        "import numpy as np\r\n",
        "import pandas as pd\r\n",
        "import matplotlib.pyplot as plt\r\n",
        "% matplotlib inline\r\n",
        "\r\n",
        "# filter warnings that can be ignored\r\n",
        "import warnings\r\n",
        "warnings.filterwarnings('ignore')"
      ],
      "execution_count": 1,
      "outputs": []
    },
    {
      "cell_type": "code",
      "metadata": {
        "id": "rWCAo_u71ht_"
      },
      "source": [
        "#read dataset using read_csv() \r\n",
        "census_csv = pd.read_csv('census_data.csv')"
      ],
      "execution_count": 2,
      "outputs": []
    },
    {
      "cell_type": "markdown",
      "metadata": {
        "id": "CbwQMw3jm-R2"
      },
      "source": [
        "#Building a Random Forest Model"
      ]
    },
    {
      "cell_type": "code",
      "metadata": {
        "id": "TADKRAA_rfhI"
      },
      "source": [
        "#use LabelEncoderer to transform non-numerical labels into numerical labels\r\n",
        "from sklearn.preprocessing import LabelEncoder\r\n",
        "le = LabelEncoder()\r\n",
        "census_le = census_csv.apply(le.fit_transform)\r\n",
        "\r\n",
        "#split data \r\n",
        "X = census_le.loc[:,'hours_per_week_bin':'age_bin'] #features/col \r\n",
        "y = census_le.loc[:,'y']\r\n",
        "\r\n",
        "from sklearn.model_selection import train_test_split\r\n",
        "X_train,X_test,y_train,y_test = train_test_split(X, y, \r\n",
        "                                                 test_size=0.30,\r\n",
        "                                                 random_state=42)\r\n",
        "    #choose the general 30/70 splitting\r\n",
        "    #I use 42 here since I want reproducible results"
      ],
      "execution_count": 3,
      "outputs": []
    },
    {
      "cell_type": "code",
      "metadata": {
        "colab": {
          "base_uri": "https://localhost:8080/",
          "height": 282
        },
        "id": "HjLAqEW4nBTN",
        "outputId": "1b171460-8c2d-4801-82b4-8cee3a57a10f"
      },
      "source": [
        "#import random forest package \r\n",
        "from sklearn.ensemble import RandomForestClassifier\r\n",
        "\r\n",
        "results = []\r\n",
        "n_estimator_options = [50,100,150,200,250,300,350,400,450,500]\r\n",
        "for trees in n_estimator_options:\r\n",
        "    model = RandomForestClassifier(n_estimators=trees) \r\n",
        "    model.fit(X_train,y_train)\r\n",
        "    y_pred = model.predict(X_test)\r\n",
        "    accuracy = np.mean(y_test==y_pred)\r\n",
        "    results.append(accuracy)\r\n",
        "\r\n",
        "plt.figure(figsize=(8,4))\r\n",
        "pd.Series(results, n_estimator_options).plot(color='green',marker = 'o')"
      ],
      "execution_count": 4,
      "outputs": [
        {
          "output_type": "execute_result",
          "data": {
            "text/plain": [
              "<matplotlib.axes._subplots.AxesSubplot at 0x7f8226a7a2d0>"
            ]
          },
          "metadata": {
            "tags": []
          },
          "execution_count": 4
        },
        {
          "output_type": "display_data",
          "data": {
            "image/png": "[encoded data removed]",
            "text/plain": [
              "<Figure size 576x288 with 1 Axes>"
            ]
          },
          "metadata": {
            "tags": [],
            "needs_background": "light"
          }
        }
      ]
    },
    {
      "cell_type": "markdown",
      "metadata": {
        "id": "TL1Jv70Sz4ym"
      },
      "source": [
        "#Building AdaBoost, Gradient Boost (classifier) and XGB Model\r\n"
      ]
    },
    {
      "cell_type": "code",
      "metadata": {
        "colab": {
          "base_uri": "https://localhost:8080/",
          "height": 282
        },
        "id": "KFxwbhIC0Avu",
        "outputId": "237b03d4-d114-4d32-bc41-cf90701f2630"
      },
      "source": [
        "#import packages \r\n",
        "from sklearn.ensemble import AdaBoostClassifier, GradientBoostingClassifier\r\n",
        "\r\n",
        "#building adaboost model\r\n",
        "results_ada = []\r\n",
        "n_estimator_options = [50,100,150,200,250,300,350,400,450,500]\r\n",
        "for trees in n_estimator_options:\r\n",
        "    model_ada = AdaBoostClassifier(n_estimators=trees)\r\n",
        "    model_ada.fit(X_train,y_train)\r\n",
        "    y_pred_ada = model.predict(X_test)\r\n",
        "    accuracy_ada = np.mean(y_test==y_pred_ada)\r\n",
        "    results_ada.append(accuracy_ada)\r\n",
        "\r\n",
        "plt.figure(figsize=(8,4))\r\n",
        "pd.Series(results_ada, n_estimator_options).plot(color='red',marker = 'o')"
      ],
      "execution_count": 5,
      "outputs": [
        {
          "output_type": "execute_result",
          "data": {
            "text/plain": [
              "<matplotlib.axes._subplots.AxesSubplot at 0x7f8210f2b110>"
            ]
          },
          "metadata": {
            "tags": []
          },
          "execution_count": 5
        },
        {
          "output_type": "display_data",
          "data": {
            "image/png": "[encoded data removed]",
            "text/plain": [
              "<Figure size 576x288 with 1 Axes>"
            ]
          },
          "metadata": {
            "tags": [],
            "needs_background": "light"
          }
        }
      ]
    },
    {
      "cell_type": "code",
      "metadata": {
        "colab": {
          "base_uri": "https://localhost:8080/",
          "height": 282
        },
        "id": "SnhpwcxMbSTd",
        "outputId": "ec8b8df8-0a71-4d72-fbbf-a7edb709b70e"
      },
      "source": [
        "#building gradient boost model\r\n",
        "results_gra = []\r\n",
        "n_estimator_options = [50,100,150,200,250,300,350,400,450,500]\r\n",
        "for trees in n_estimator_options:\r\n",
        "    model_gra = GradientBoostingClassifier(n_estimators=trees)\r\n",
        "    model_gra.fit(X_train,y_train)\r\n",
        "    y_pred_gra = model.predict(X_test)\r\n",
        "    accuracy_gra = np.mean(y_test==y_pred_gra)\r\n",
        "    results_gra.append(accuracy_gra)\r\n",
        "\r\n",
        "plt.figure(figsize=(8,4))\r\n",
        "pd.Series(results_gra, n_estimator_options).plot(color='yellow',marker = 'o')"
      ],
      "execution_count": 6,
      "outputs": [
        {
          "output_type": "execute_result",
          "data": {
            "text/plain": [
              "<matplotlib.axes._subplots.AxesSubplot at 0x7f8210e8fd10>"
            ]
          },
          "metadata": {
            "tags": []
          },
          "execution_count": 6
        },
        {
          "output_type": "display_data",
          "data": {
            "image/png": "[encoded data removed]",
            "text/plain": [
              "<Figure size 576x288 with 1 Axes>"
            ]
          },
          "metadata": {
            "tags": [],
            "needs_background": "light"
          }
        }
      ]
    },
    {
      "cell_type": "code",
      "metadata": {
        "colab": {
          "base_uri": "https://localhost:8080/",
          "height": 282
        },
        "id": "rHvZdUtJeJtB",
        "outputId": "0cbc5635-a967-4faa-9aa2-b2563d2bc8f3"
      },
      "source": [
        "#import package\r\n",
        "from xgboost import XGBClassifier\r\n",
        "\r\n",
        "#build XGB model\r\n",
        "results_xgb = []\r\n",
        "n_estimator_options = [50,100,150,200,250,300,350,400,450,500]\r\n",
        "for trees in n_estimator_options:\r\n",
        "    model_xgb = XGBClassifier(n_estimators=trees,random_state=101)\r\n",
        "    model_xgb.fit(X_train,y_train)\r\n",
        "    y_pred_xgb = model.predict(X_test)\r\n",
        "    accuracy_xgb = np.mean(y_test==y_pred_xgb)\r\n",
        "    results_xgb.append(accuracy_xgb)\r\n",
        "\r\n",
        "plt.figure(figsize=(8,4))\r\n",
        "pd.Series(results_xgb, n_estimator_options).plot(color='blue',marker = 'o')"
      ],
      "execution_count": 7,
      "outputs": [
        {
          "output_type": "execute_result",
          "data": {
            "text/plain": [
              "<matplotlib.axes._subplots.AxesSubplot at 0x7f8208057510>"
            ]
          },
          "metadata": {
            "tags": []
          },
          "execution_count": 7
        },
        {
          "output_type": "display_data",
          "data": {
            "image/png": "[encoded data removed]",
            "text/plain": [
              "<Figure size 576x288 with 1 Axes>"
            ]
          },
          "metadata": {
            "tags": [],
            "needs_background": "light"
          }
        }
      ]
    },
    {
      "cell_type": "markdown",
      "metadata": {
        "id": "FMSA0vwCfoPN"
      },
      "source": [
        "#Compare Performance"
      ]
    },
    {
      "cell_type": "code",
      "metadata": {
        "colab": {
          "base_uri": "https://localhost:8080/"
        },
        "id": "-QgjT8-uoPD_",
        "outputId": "32e9addc-63ff-4887-f01d-b00c59d5c6a4"
      },
      "source": [
        "from sklearn.metrics import roc_auc_score\r\n",
        "from sklearn.metrics import accuracy_score\r\n",
        "\r\n",
        "#run random forest model again \r\n",
        "model_rf = RandomForestClassifier(n_estimators=500)\r\n",
        "model_rf.fit(X_train, y_train)\r\n",
        "y_pred = model_rf.predict(X_test)\r\n",
        "print('accuracy: ', accuracy_score(y_test,y_pred))\r\n",
        "print('AUC: ', roc_auc_score(y_test,y_pred))\r\n"
      ],
      "execution_count": 8,
      "outputs": [
        {
          "output_type": "stream",
          "text": [
            "accuracy:  0.8394185491025729\n",
            "AUC:  0.7460433495343799\n"
          ],
          "name": "stdout"
        }
      ]
    },
    {
      "cell_type": "code",
      "metadata": {
        "colab": {
          "base_uri": "https://localhost:8080/"
        },
        "id": "Jtl_Zy_Et9Ao",
        "outputId": "5be1775e-0e7f-4428-9e1c-527bbd29427a"
      },
      "source": [
        "#run adaboost model again \r\n",
        "model_ada = AdaBoostClassifier(n_estimators=500)\r\n",
        "model_ada.fit(X_train, y_train)\r\n",
        "y_pred = model_ada.predict(X_test)\r\n",
        "print('accuracy: ', accuracy_score(y_test,y_pred))\r\n",
        "print('AUC: ', roc_auc_score(y_test,y_pred))"
      ],
      "execution_count": 9,
      "outputs": [
        {
          "output_type": "stream",
          "text": [
            "accuracy:  0.8444687094792875\n",
            "AUC:  0.7437055591352425\n"
          ],
          "name": "stdout"
        }
      ]
    },
    {
      "cell_type": "code",
      "metadata": {
        "colab": {
          "base_uri": "https://localhost:8080/"
        },
        "id": "xE8DOFuOuJHr",
        "outputId": "57bb72e1-384e-47ce-8ca0-366df9e3664f"
      },
      "source": [
        "#run gradient boost model again \r\n",
        "model_gra = GradientBoostingClassifier(n_estimators=500)\r\n",
        "model_gra.fit(X_train, y_train)\r\n",
        "y_pred = model_gra.predict(X_test)\r\n",
        "print('accuracy: ', accuracy_score(y_test,y_pred))\r\n",
        "print('AUC: ', roc_auc_score(y_test,y_pred))"
      ],
      "execution_count": 10,
      "outputs": [
        {
          "output_type": "stream",
          "text": [
            "accuracy:  0.8473350167201256\n",
            "AUC:  0.7577013645007902\n"
          ],
          "name": "stdout"
        }
      ]
    },
    {
      "cell_type": "code",
      "metadata": {
        "colab": {
          "base_uri": "https://localhost:8080/"
        },
        "id": "ED9o1CceuJ6X",
        "outputId": "df458e0b-a6fc-40ca-a6d9-13b197aa0b3a"
      },
      "source": [
        "#run XGB model again \r\n",
        "model_xgb = XGBClassifier(n_estimators=500)\r\n",
        "model_xgb.fit(X_train, y_train)\r\n",
        "y_pred = model_xgb.predict(X_test)\r\n",
        "print('accuracy: ', accuracy_score(y_test,y_pred))\r\n",
        "print('AUC: ', roc_auc_score(y_test,y_pred))"
      ],
      "execution_count": 11,
      "outputs": [
        {
          "output_type": "stream",
          "text": [
            "accuracy:  0.8474032621306217\n",
            "AUC:  0.7573620731731354\n"
          ],
          "name": "stdout"
        }
      ]
    },
    {
      "cell_type": "code",
      "metadata": {
        "id": "ZU2SF9ZAsKFZ"
      },
      "source": [
        "#create performance comparison table \r\n",
        "#plt.figure(figsize=12,8)\r\n",
        "#plot_decision_regions(model,legend=0) -- not appliable "
      ],
      "execution_count": 12,
      "outputs": []
    },
    {
      "cell_type": "code",
      "metadata": {
        "colab": {
          "base_uri": "https://localhost:8080/"
        },
        "id": "Js9Z1l_1x1Ef",
        "outputId": "1b29594d-aa44-4ab1-ae00-2b09b2a6611a"
      },
      "source": [
        "print('n_estimators = 500')\r\n",
        "\r\n",
        "print('random_state = 42')\r\n"
      ],
      "execution_count": 13,
      "outputs": [
        {
          "output_type": "stream",
          "text": [
            "n_estimators = 500\n",
            "random_state = 42\n"
          ],
          "name": "stdout"
        }
      ]
    }
  ]
}