{
  "nbformat": 4,
  "nbformat_minor": 0,
  "metadata": {
    "kernelspec": {
      "display_name": "Python 3",
      "language": "python",
      "name": "python3"
    },
    "language_info": {
      "codemirror_mode": {
        "name": "ipython",
        "version": 3
      },
      "file_extension": ".py",
      "mimetype": "text/x-python",
      "name": "python",
      "nbconvert_exporter": "python",
      "pygments_lexer": "ipython3",
      "version": "3.5.4"
    },
    "colab": {
      "name": "India Air Quality-CA01-Kassie-Xie.ipynb",
      "provenance": [],
      "collapsed_sections": []
    }
  },
  "cells": [
    {
      "cell_type": "markdown",
      "metadata": {
        "id": "jAtKo_2u5Vdq"
      },
      "source": [
        "# Your name: Kassie - Xinyu Xie\n",
        "## Assignment Name: CA01 - Data Cleaning and Exploration of India Air Quality"
      ]
    },
    {
      "cell_type": "markdown",
      "metadata": {
        "id": "TRMvxzvb5Vd7"
      },
      "source": [
        "# Program Inititialization Section\n",
        "## Enter your import packages here"
      ]
    },
    {
      "cell_type": "code",
      "metadata": {
        "collapsed": true,
        "id": "Ps4gYMJ25Vd9"
      },
      "source": [
        "#import packages \n",
        "\n",
        "#start by importing pandas, matplotlib, numpy and seaborn\n",
        "\n",
        "import pandas as pd\n",
        "import matplotlib.pyplot as plt\n",
        "import numpy as np \n",
        "import seaborn as sns\n",
        "\n"
      ],
      "execution_count": 1,
      "outputs": []
    },
    {
      "cell_type": "markdown",
      "metadata": {
        "id": "Ok8DulyW5Vd_"
      },
      "source": [
        "# Data File Reading Section\n",
        "## Write code to read in data from external sources here"
      ]
    },
    {
      "cell_type": "code",
      "metadata": {
        "colab": {
          "base_uri": "https://localhost:8080/"
        },
        "id": "2wJeeq825VeA",
        "outputId": "d60adbb8-52e6-4a84-b50a-b804eb0ce9d1"
      },
      "source": [
        "#read datasets\n",
        "india_csv = pd.read_csv('data.csv',encoding='cp1252') #working on Windows \n"
      ],
      "execution_count": 2,
      "outputs": [
        {
          "output_type": "stream",
          "text": [
            "/usr/local/lib/python3.6/dist-packages/IPython/core/interactiveshell.py:2718: DtypeWarning: Columns (0) have mixed types.Specify dtype option on import or set low_memory=False.\n",
            "  interactivity=interactivity, compiler=compiler, result=result)\n"
          ],
          "name": "stderr"
        }
      ]
    },
    {
      "cell_type": "code",
      "metadata": {
        "colab": {
          "base_uri": "https://localhost:8080/",
          "height": 201
        },
        "id": "cqPVghIwFpU9",
        "outputId": "57a2e7a9-2b9f-4947-a097-52d1e1cb2704"
      },
      "source": [
        "#display first few rows with head()\r\n",
        "india_csv.head()"
      ],
      "execution_count": 3,
      "outputs": [
        {
          "output_type": "execute_result",
          "data": {
            "text/html": [
              "<div>\n",
              "<style scoped>\n",
              "    .dataframe tbody tr th:only-of-type {\n",
              "        vertical-align: middle;\n",
              "    }\n",
              "\n",
              "    .dataframe tbody tr th {\n",
              "        vertical-align: top;\n",
              "    }\n",
              "\n",
              "    .dataframe thead th {\n",
              "        text-align: right;\n",
              "    }\n",
              "</style>\n",
              "<table border=\"1\" class=\"dataframe\">\n",
              "  <thead>\n",
              "    <tr style=\"text-align: right;\">\n",
              "      <th></th>\n",
              "      <th>stn_code</th>\n",
              "      <th>sampling_date</th>\n",
              "      <th>state</th>\n",
              "      <th>location</th>\n",
              "      <th>agency</th>\n",
              "      <th>type</th>\n",
              "      <th>so2</th>\n",
              "      <th>no2</th>\n",
              "      <th>rspm</th>\n",
              "      <th>spm</th>\n",
              "      <th>location_monitoring_station</th>\n",
              "      <th>pm2_5</th>\n",
              "      <th>date</th>\n",
              "    </tr>\n",
              "  </thead>\n",
              "  <tbody>\n",
              "    <tr>\n",
              "      <th>0</th>\n",
              "      <td>150</td>\n",
              "      <td>February - M021990</td>\n",
              "      <td>Andhra Pradesh</td>\n",
              "      <td>Hyderabad</td>\n",
              "      <td>NaN</td>\n",
              "      <td>Residential, Rural and other Areas</td>\n",
              "      <td>4.8</td>\n",
              "      <td>17.4</td>\n",
              "      <td>NaN</td>\n",
              "      <td>NaN</td>\n",
              "      <td>NaN</td>\n",
              "      <td>NaN</td>\n",
              "      <td>1990-02-01</td>\n",
              "    </tr>\n",
              "    <tr>\n",
              "      <th>1</th>\n",
              "      <td>151</td>\n",
              "      <td>February - M021990</td>\n",
              "      <td>Andhra Pradesh</td>\n",
              "      <td>Hyderabad</td>\n",
              "      <td>NaN</td>\n",
              "      <td>Industrial Area</td>\n",
              "      <td>3.1</td>\n",
              "      <td>7.0</td>\n",
              "      <td>NaN</td>\n",
              "      <td>NaN</td>\n",
              "      <td>NaN</td>\n",
              "      <td>NaN</td>\n",
              "      <td>1990-02-01</td>\n",
              "    </tr>\n",
              "    <tr>\n",
              "      <th>2</th>\n",
              "      <td>152</td>\n",
              "      <td>February - M021990</td>\n",
              "      <td>Andhra Pradesh</td>\n",
              "      <td>Hyderabad</td>\n",
              "      <td>NaN</td>\n",
              "      <td>Residential, Rural and other Areas</td>\n",
              "      <td>6.2</td>\n",
              "      <td>28.5</td>\n",
              "      <td>NaN</td>\n",
              "      <td>NaN</td>\n",
              "      <td>NaN</td>\n",
              "      <td>NaN</td>\n",
              "      <td>1990-02-01</td>\n",
              "    </tr>\n",
              "    <tr>\n",
              "      <th>3</th>\n",
              "      <td>150</td>\n",
              "      <td>March - M031990</td>\n",
              "      <td>Andhra Pradesh</td>\n",
              "      <td>Hyderabad</td>\n",
              "      <td>NaN</td>\n",
              "      <td>Residential, Rural and other Areas</td>\n",
              "      <td>6.3</td>\n",
              "      <td>14.7</td>\n",
              "      <td>NaN</td>\n",
              "      <td>NaN</td>\n",
              "      <td>NaN</td>\n",
              "      <td>NaN</td>\n",
              "      <td>1990-03-01</td>\n",
              "    </tr>\n",
              "    <tr>\n",
              "      <th>4</th>\n",
              "      <td>151</td>\n",
              "      <td>March - M031990</td>\n",
              "      <td>Andhra Pradesh</td>\n",
              "      <td>Hyderabad</td>\n",
              "      <td>NaN</td>\n",
              "      <td>Industrial Area</td>\n",
              "      <td>4.7</td>\n",
              "      <td>7.5</td>\n",
              "      <td>NaN</td>\n",
              "      <td>NaN</td>\n",
              "      <td>NaN</td>\n",
              "      <td>NaN</td>\n",
              "      <td>1990-03-01</td>\n",
              "    </tr>\n",
              "  </tbody>\n",
              "</table>\n",
              "</div>"
            ],
            "text/plain": [
              "  stn_code       sampling_date  ... pm2_5        date\n",
              "0      150  February - M021990  ...   NaN  1990-02-01\n",
              "1      151  February - M021990  ...   NaN  1990-02-01\n",
              "2      152  February - M021990  ...   NaN  1990-02-01\n",
              "3      150     March - M031990  ...   NaN  1990-03-01\n",
              "4      151     March - M031990  ...   NaN  1990-03-01\n",
              "\n",
              "[5 rows x 13 columns]"
            ]
          },
          "metadata": {
            "tags": []
          },
          "execution_count": 3
        }
      ]
    },
    {
      "cell_type": "code",
      "metadata": {
        "colab": {
          "base_uri": "https://localhost:8080/",
          "height": 353
        },
        "id": "mrF7vocFFp7H",
        "outputId": "1a7dc1e7-15cf-4205-e148-2a533c8adf43"
      },
      "source": [
        "#specify to 10 rows \r\n",
        "india_csv.head(10)"
      ],
      "execution_count": 4,
      "outputs": [
        {
          "output_type": "execute_result",
          "data": {
            "text/html": [
              "<div>\n",
              "<style scoped>\n",
              "    .dataframe tbody tr th:only-of-type {\n",
              "        vertical-align: middle;\n",
              "    }\n",
              "\n",
              "    .dataframe tbody tr th {\n",
              "        vertical-align: top;\n",
              "    }\n",
              "\n",
              "    .dataframe thead th {\n",
              "        text-align: right;\n",
              "    }\n",
              "</style>\n",
              "<table border=\"1\" class=\"dataframe\">\n",
              "  <thead>\n",
              "    <tr style=\"text-align: right;\">\n",
              "      <th></th>\n",
              "      <th>stn_code</th>\n",
              "      <th>sampling_date</th>\n",
              "      <th>state</th>\n",
              "      <th>location</th>\n",
              "      <th>agency</th>\n",
              "      <th>type</th>\n",
              "      <th>so2</th>\n",
              "      <th>no2</th>\n",
              "      <th>rspm</th>\n",
              "      <th>spm</th>\n",
              "      <th>location_monitoring_station</th>\n",
              "      <th>pm2_5</th>\n",
              "      <th>date</th>\n",
              "    </tr>\n",
              "  </thead>\n",
              "  <tbody>\n",
              "    <tr>\n",
              "      <th>0</th>\n",
              "      <td>150</td>\n",
              "      <td>February - M021990</td>\n",
              "      <td>Andhra Pradesh</td>\n",
              "      <td>Hyderabad</td>\n",
              "      <td>NaN</td>\n",
              "      <td>Residential, Rural and other Areas</td>\n",
              "      <td>4.8</td>\n",
              "      <td>17.4</td>\n",
              "      <td>NaN</td>\n",
              "      <td>NaN</td>\n",
              "      <td>NaN</td>\n",
              "      <td>NaN</td>\n",
              "      <td>1990-02-01</td>\n",
              "    </tr>\n",
              "    <tr>\n",
              "      <th>1</th>\n",
              "      <td>151</td>\n",
              "      <td>February - M021990</td>\n",
              "      <td>Andhra Pradesh</td>\n",
              "      <td>Hyderabad</td>\n",
              "      <td>NaN</td>\n",
              "      <td>Industrial Area</td>\n",
              "      <td>3.1</td>\n",
              "      <td>7.0</td>\n",
              "      <td>NaN</td>\n",
              "      <td>NaN</td>\n",
              "      <td>NaN</td>\n",
              "      <td>NaN</td>\n",
              "      <td>1990-02-01</td>\n",
              "    </tr>\n",
              "    <tr>\n",
              "      <th>2</th>\n",
              "      <td>152</td>\n",
              "      <td>February - M021990</td>\n",
              "      <td>Andhra Pradesh</td>\n",
              "      <td>Hyderabad</td>\n",
              "      <td>NaN</td>\n",
              "      <td>Residential, Rural and other Areas</td>\n",
              "      <td>6.2</td>\n",
              "      <td>28.5</td>\n",
              "      <td>NaN</td>\n",
              "      <td>NaN</td>\n",
              "      <td>NaN</td>\n",
              "      <td>NaN</td>\n",
              "      <td>1990-02-01</td>\n",
              "    </tr>\n",
              "    <tr>\n",
              "      <th>3</th>\n",
              "      <td>150</td>\n",
              "      <td>March - M031990</td>\n",
              "      <td>Andhra Pradesh</td>\n",
              "      <td>Hyderabad</td>\n",
              "      <td>NaN</td>\n",
              "      <td>Residential, Rural and other Areas</td>\n",
              "      <td>6.3</td>\n",
              "      <td>14.7</td>\n",
              "      <td>NaN</td>\n",
              "      <td>NaN</td>\n",
              "      <td>NaN</td>\n",
              "      <td>NaN</td>\n",
              "      <td>1990-03-01</td>\n",
              "    </tr>\n",
              "    <tr>\n",
              "      <th>4</th>\n",
              "      <td>151</td>\n",
              "      <td>March - M031990</td>\n",
              "      <td>Andhra Pradesh</td>\n",
              "      <td>Hyderabad</td>\n",
              "      <td>NaN</td>\n",
              "      <td>Industrial Area</td>\n",
              "      <td>4.7</td>\n",
              "      <td>7.5</td>\n",
              "      <td>NaN</td>\n",
              "      <td>NaN</td>\n",
              "      <td>NaN</td>\n",
              "      <td>NaN</td>\n",
              "      <td>1990-03-01</td>\n",
              "    </tr>\n",
              "    <tr>\n",
              "      <th>5</th>\n",
              "      <td>152</td>\n",
              "      <td>March - M031990</td>\n",
              "      <td>Andhra Pradesh</td>\n",
              "      <td>Hyderabad</td>\n",
              "      <td>NaN</td>\n",
              "      <td>Residential, Rural and other Areas</td>\n",
              "      <td>6.4</td>\n",
              "      <td>25.7</td>\n",
              "      <td>NaN</td>\n",
              "      <td>NaN</td>\n",
              "      <td>NaN</td>\n",
              "      <td>NaN</td>\n",
              "      <td>1990-03-01</td>\n",
              "    </tr>\n",
              "    <tr>\n",
              "      <th>6</th>\n",
              "      <td>150</td>\n",
              "      <td>April - M041990</td>\n",
              "      <td>Andhra Pradesh</td>\n",
              "      <td>Hyderabad</td>\n",
              "      <td>NaN</td>\n",
              "      <td>Residential, Rural and other Areas</td>\n",
              "      <td>5.4</td>\n",
              "      <td>17.1</td>\n",
              "      <td>NaN</td>\n",
              "      <td>NaN</td>\n",
              "      <td>NaN</td>\n",
              "      <td>NaN</td>\n",
              "      <td>1990-04-01</td>\n",
              "    </tr>\n",
              "    <tr>\n",
              "      <th>7</th>\n",
              "      <td>151</td>\n",
              "      <td>April - M041990</td>\n",
              "      <td>Andhra Pradesh</td>\n",
              "      <td>Hyderabad</td>\n",
              "      <td>NaN</td>\n",
              "      <td>Industrial Area</td>\n",
              "      <td>4.7</td>\n",
              "      <td>8.7</td>\n",
              "      <td>NaN</td>\n",
              "      <td>NaN</td>\n",
              "      <td>NaN</td>\n",
              "      <td>NaN</td>\n",
              "      <td>1990-04-01</td>\n",
              "    </tr>\n",
              "    <tr>\n",
              "      <th>8</th>\n",
              "      <td>152</td>\n",
              "      <td>April - M041990</td>\n",
              "      <td>Andhra Pradesh</td>\n",
              "      <td>Hyderabad</td>\n",
              "      <td>NaN</td>\n",
              "      <td>Residential, Rural and other Areas</td>\n",
              "      <td>4.2</td>\n",
              "      <td>23.0</td>\n",
              "      <td>NaN</td>\n",
              "      <td>NaN</td>\n",
              "      <td>NaN</td>\n",
              "      <td>NaN</td>\n",
              "      <td>1990-04-01</td>\n",
              "    </tr>\n",
              "    <tr>\n",
              "      <th>9</th>\n",
              "      <td>151</td>\n",
              "      <td>May - M051990</td>\n",
              "      <td>Andhra Pradesh</td>\n",
              "      <td>Hyderabad</td>\n",
              "      <td>NaN</td>\n",
              "      <td>Industrial Area</td>\n",
              "      <td>4.0</td>\n",
              "      <td>8.9</td>\n",
              "      <td>NaN</td>\n",
              "      <td>NaN</td>\n",
              "      <td>NaN</td>\n",
              "      <td>NaN</td>\n",
              "      <td>1990-05-01</td>\n",
              "    </tr>\n",
              "  </tbody>\n",
              "</table>\n",
              "</div>"
            ],
            "text/plain": [
              "  stn_code       sampling_date  ... pm2_5        date\n",
              "0      150  February - M021990  ...   NaN  1990-02-01\n",
              "1      151  February - M021990  ...   NaN  1990-02-01\n",
              "2      152  February - M021990  ...   NaN  1990-02-01\n",
              "3      150     March - M031990  ...   NaN  1990-03-01\n",
              "4      151     March - M031990  ...   NaN  1990-03-01\n",
              "5      152     March - M031990  ...   NaN  1990-03-01\n",
              "6      150     April - M041990  ...   NaN  1990-04-01\n",
              "7      151     April - M041990  ...   NaN  1990-04-01\n",
              "8      152     April - M041990  ...   NaN  1990-04-01\n",
              "9      151       May - M051990  ...   NaN  1990-05-01\n",
              "\n",
              "[10 rows x 13 columns]"
            ]
          },
          "metadata": {
            "tags": []
          },
          "execution_count": 4
        }
      ]
    },
    {
      "cell_type": "markdown",
      "metadata": {
        "id": "9_wh5XLp5VeB"
      },
      "source": [
        "# Initial Data Investigation Section\n",
        "\n",
        "## Summarized details\n",
        "### Generate descriptive statistics that summarize the central tendency, dispersion, and shape of a dataset’s distribution, excluding NaN values.\n",
        "#### Steps:\n",
        "#### 1. Statistical Description of data (data.describe)\n",
        "#### 2. Display number of total rows and columns of the dataset (data.shape)\n",
        "#### 3. Display number of non-null values for each column (data.count)\n",
        "#### 4. Display number of null values for each column (sum of data.isnull)\n",
        "#### 5. Display range, column, number of non-null objects of each column, datatype and memory usage (data.info)\n",
        "#### 6. Display Top 10 and Bottom 10 records (head and tail)"
      ]
    },
    {
      "cell_type": "code",
      "metadata": {
        "scrolled": false,
        "colab": {
          "base_uri": "https://localhost:8080/",
          "height": 292
        },
        "id": "u1MtmxFq5VeC",
        "outputId": "5fb1873e-0eb7-4254-fbd1-11b76b48731a"
      },
      "source": [
        "#get statistical descripotion \r\n",
        "india_csv.describe().round(2)"
      ],
      "execution_count": 5,
      "outputs": [
        {
          "output_type": "execute_result",
          "data": {
            "text/html": [
              "<div>\n",
              "<style scoped>\n",
              "    .dataframe tbody tr th:only-of-type {\n",
              "        vertical-align: middle;\n",
              "    }\n",
              "\n",
              "    .dataframe tbody tr th {\n",
              "        vertical-align: top;\n",
              "    }\n",
              "\n",
              "    .dataframe thead th {\n",
              "        text-align: right;\n",
              "    }\n",
              "</style>\n",
              "<table border=\"1\" class=\"dataframe\">\n",
              "  <thead>\n",
              "    <tr style=\"text-align: right;\">\n",
              "      <th></th>\n",
              "      <th>so2</th>\n",
              "      <th>no2</th>\n",
              "      <th>rspm</th>\n",
              "      <th>spm</th>\n",
              "      <th>pm2_5</th>\n",
              "    </tr>\n",
              "  </thead>\n",
              "  <tbody>\n",
              "    <tr>\n",
              "      <th>count</th>\n",
              "      <td>401096.00</td>\n",
              "      <td>419509.00</td>\n",
              "      <td>395520.00</td>\n",
              "      <td>198355.00</td>\n",
              "      <td>9314.00</td>\n",
              "    </tr>\n",
              "    <tr>\n",
              "      <th>mean</th>\n",
              "      <td>10.83</td>\n",
              "      <td>25.81</td>\n",
              "      <td>108.83</td>\n",
              "      <td>220.78</td>\n",
              "      <td>40.79</td>\n",
              "    </tr>\n",
              "    <tr>\n",
              "      <th>std</th>\n",
              "      <td>11.18</td>\n",
              "      <td>18.50</td>\n",
              "      <td>74.87</td>\n",
              "      <td>151.40</td>\n",
              "      <td>30.83</td>\n",
              "    </tr>\n",
              "    <tr>\n",
              "      <th>min</th>\n",
              "      <td>0.00</td>\n",
              "      <td>0.00</td>\n",
              "      <td>0.00</td>\n",
              "      <td>0.00</td>\n",
              "      <td>3.00</td>\n",
              "    </tr>\n",
              "    <tr>\n",
              "      <th>25%</th>\n",
              "      <td>5.00</td>\n",
              "      <td>14.00</td>\n",
              "      <td>56.00</td>\n",
              "      <td>111.00</td>\n",
              "      <td>24.00</td>\n",
              "    </tr>\n",
              "    <tr>\n",
              "      <th>50%</th>\n",
              "      <td>8.00</td>\n",
              "      <td>22.00</td>\n",
              "      <td>90.00</td>\n",
              "      <td>187.00</td>\n",
              "      <td>32.00</td>\n",
              "    </tr>\n",
              "    <tr>\n",
              "      <th>75%</th>\n",
              "      <td>13.70</td>\n",
              "      <td>32.20</td>\n",
              "      <td>142.00</td>\n",
              "      <td>296.00</td>\n",
              "      <td>46.00</td>\n",
              "    </tr>\n",
              "    <tr>\n",
              "      <th>max</th>\n",
              "      <td>909.00</td>\n",
              "      <td>876.00</td>\n",
              "      <td>6307.03</td>\n",
              "      <td>3380.00</td>\n",
              "      <td>504.00</td>\n",
              "    </tr>\n",
              "  </tbody>\n",
              "</table>\n",
              "</div>"
            ],
            "text/plain": [
              "             so2        no2       rspm        spm    pm2_5\n",
              "count  401096.00  419509.00  395520.00  198355.00  9314.00\n",
              "mean       10.83      25.81     108.83     220.78    40.79\n",
              "std        11.18      18.50      74.87     151.40    30.83\n",
              "min         0.00       0.00       0.00       0.00     3.00\n",
              "25%         5.00      14.00      56.00     111.00    24.00\n",
              "50%         8.00      22.00      90.00     187.00    32.00\n",
              "75%        13.70      32.20     142.00     296.00    46.00\n",
              "max       909.00     876.00    6307.03    3380.00   504.00"
            ]
          },
          "metadata": {
            "tags": []
          },
          "execution_count": 5
        }
      ]
    },
    {
      "cell_type": "code",
      "metadata": {
        "colab": {
          "base_uri": "https://localhost:8080/"
        },
        "id": "BKRCZIZfIO07",
        "outputId": "0a9ea57b-9caa-4b17-d1f0-322a39308f08"
      },
      "source": [
        "#display number of total rows and columns \r\n",
        "india_csv.shape"
      ],
      "execution_count": 6,
      "outputs": [
        {
          "output_type": "execute_result",
          "data": {
            "text/plain": [
              "(435742, 13)"
            ]
          },
          "metadata": {
            "tags": []
          },
          "execution_count": 6
        }
      ]
    },
    {
      "cell_type": "code",
      "metadata": {
        "colab": {
          "base_uri": "https://localhost:8080/"
        },
        "id": "V94nxW-xJJVD",
        "outputId": "3b250488-468c-400d-a283-cba7b23b6838"
      },
      "source": [
        "#display number of non-null values for each column\r\n",
        "india_csv.count()"
      ],
      "execution_count": 7,
      "outputs": [
        {
          "output_type": "execute_result",
          "data": {
            "text/plain": [
              "stn_code                       291665\n",
              "sampling_date                  435739\n",
              "state                          435742\n",
              "location                       435739\n",
              "agency                         286261\n",
              "type                           430349\n",
              "so2                            401096\n",
              "no2                            419509\n",
              "rspm                           395520\n",
              "spm                            198355\n",
              "location_monitoring_station    408251\n",
              "pm2_5                            9314\n",
              "date                           435735\n",
              "dtype: int64"
            ]
          },
          "metadata": {
            "tags": []
          },
          "execution_count": 7
        }
      ]
    },
    {
      "cell_type": "code",
      "metadata": {
        "colab": {
          "base_uri": "https://localhost:8080/"
        },
        "id": "NnJ_SZCDJ5-R",
        "outputId": "db431750-3639-44f8-da23-9878454a3822"
      },
      "source": [
        "#display number of null value for each column \r\n",
        "india_csv.isnull().sum()\r\n",
        "    #most num of null: pm2_5, least num of null: state"
      ],
      "execution_count": 8,
      "outputs": [
        {
          "output_type": "execute_result",
          "data": {
            "text/plain": [
              "stn_code                       144077\n",
              "sampling_date                       3\n",
              "state                               0\n",
              "location                            3\n",
              "agency                         149481\n",
              "type                             5393\n",
              "so2                             34646\n",
              "no2                             16233\n",
              "rspm                            40222\n",
              "spm                            237387\n",
              "location_monitoring_station     27491\n",
              "pm2_5                          426428\n",
              "date                                7\n",
              "dtype: int64"
            ]
          },
          "metadata": {
            "tags": []
          },
          "execution_count": 8
        }
      ]
    },
    {
      "cell_type": "code",
      "metadata": {
        "colab": {
          "base_uri": "https://localhost:8080/"
        },
        "id": "BYIEjQdfJ9cr",
        "outputId": "076d0482-ff3d-4071-b4d6-ec3a8bf5b515"
      },
      "source": [
        "#display information of dataset \r\n",
        "india_csv.info()"
      ],
      "execution_count": 9,
      "outputs": [
        {
          "output_type": "stream",
          "text": [
            "<class 'pandas.core.frame.DataFrame'>\n",
            "RangeIndex: 435742 entries, 0 to 435741\n",
            "Data columns (total 13 columns):\n",
            " #   Column                       Non-Null Count   Dtype  \n",
            "---  ------                       --------------   -----  \n",
            " 0   stn_code                     291665 non-null  object \n",
            " 1   sampling_date                435739 non-null  object \n",
            " 2   state                        435742 non-null  object \n",
            " 3   location                     435739 non-null  object \n",
            " 4   agency                       286261 non-null  object \n",
            " 5   type                         430349 non-null  object \n",
            " 6   so2                          401096 non-null  float64\n",
            " 7   no2                          419509 non-null  float64\n",
            " 8   rspm                         395520 non-null  float64\n",
            " 9   spm                          198355 non-null  float64\n",
            " 10  location_monitoring_station  408251 non-null  object \n",
            " 11  pm2_5                        9314 non-null    float64\n",
            " 12  date                         435735 non-null  object \n",
            "dtypes: float64(5), object(8)\n",
            "memory usage: 43.2+ MB\n"
          ],
          "name": "stdout"
        }
      ]
    },
    {
      "cell_type": "code",
      "metadata": {
        "colab": {
          "base_uri": "https://localhost:8080/",
          "height": 201
        },
        "id": "O2UpagLMKXvt",
        "outputId": "99b4f932-79ac-4be9-ebfa-71a9527c83ac"
      },
      "source": [
        "#display top 10 records\r\n",
        "india_csv.head()"
      ],
      "execution_count": 10,
      "outputs": [
        {
          "output_type": "execute_result",
          "data": {
            "text/html": [
              "<div>\n",
              "<style scoped>\n",
              "    .dataframe tbody tr th:only-of-type {\n",
              "        vertical-align: middle;\n",
              "    }\n",
              "\n",
              "    .dataframe tbody tr th {\n",
              "        vertical-align: top;\n",
              "    }\n",
              "\n",
              "    .dataframe thead th {\n",
              "        text-align: right;\n",
              "    }\n",
              "</style>\n",
              "<table border=\"1\" class=\"dataframe\">\n",
              "  <thead>\n",
              "    <tr style=\"text-align: right;\">\n",
              "      <th></th>\n",
              "      <th>stn_code</th>\n",
              "      <th>sampling_date</th>\n",
              "      <th>state</th>\n",
              "      <th>location</th>\n",
              "      <th>agency</th>\n",
              "      <th>type</th>\n",
              "      <th>so2</th>\n",
              "      <th>no2</th>\n",
              "      <th>rspm</th>\n",
              "      <th>spm</th>\n",
              "      <th>location_monitoring_station</th>\n",
              "      <th>pm2_5</th>\n",
              "      <th>date</th>\n",
              "    </tr>\n",
              "  </thead>\n",
              "  <tbody>\n",
              "    <tr>\n",
              "      <th>0</th>\n",
              "      <td>150</td>\n",
              "      <td>February - M021990</td>\n",
              "      <td>Andhra Pradesh</td>\n",
              "      <td>Hyderabad</td>\n",
              "      <td>NaN</td>\n",
              "      <td>Residential, Rural and other Areas</td>\n",
              "      <td>4.8</td>\n",
              "      <td>17.4</td>\n",
              "      <td>NaN</td>\n",
              "      <td>NaN</td>\n",
              "      <td>NaN</td>\n",
              "      <td>NaN</td>\n",
              "      <td>1990-02-01</td>\n",
              "    </tr>\n",
              "    <tr>\n",
              "      <th>1</th>\n",
              "      <td>151</td>\n",
              "      <td>February - M021990</td>\n",
              "      <td>Andhra Pradesh</td>\n",
              "      <td>Hyderabad</td>\n",
              "      <td>NaN</td>\n",
              "      <td>Industrial Area</td>\n",
              "      <td>3.1</td>\n",
              "      <td>7.0</td>\n",
              "      <td>NaN</td>\n",
              "      <td>NaN</td>\n",
              "      <td>NaN</td>\n",
              "      <td>NaN</td>\n",
              "      <td>1990-02-01</td>\n",
              "    </tr>\n",
              "    <tr>\n",
              "      <th>2</th>\n",
              "      <td>152</td>\n",
              "      <td>February - M021990</td>\n",
              "      <td>Andhra Pradesh</td>\n",
              "      <td>Hyderabad</td>\n",
              "      <td>NaN</td>\n",
              "      <td>Residential, Rural and other Areas</td>\n",
              "      <td>6.2</td>\n",
              "      <td>28.5</td>\n",
              "      <td>NaN</td>\n",
              "      <td>NaN</td>\n",
              "      <td>NaN</td>\n",
              "      <td>NaN</td>\n",
              "      <td>1990-02-01</td>\n",
              "    </tr>\n",
              "    <tr>\n",
              "      <th>3</th>\n",
              "      <td>150</td>\n",
              "      <td>March - M031990</td>\n",
              "      <td>Andhra Pradesh</td>\n",
              "      <td>Hyderabad</td>\n",
              "      <td>NaN</td>\n",
              "      <td>Residential, Rural and other Areas</td>\n",
              "      <td>6.3</td>\n",
              "      <td>14.7</td>\n",
              "      <td>NaN</td>\n",
              "      <td>NaN</td>\n",
              "      <td>NaN</td>\n",
              "      <td>NaN</td>\n",
              "      <td>1990-03-01</td>\n",
              "    </tr>\n",
              "    <tr>\n",
              "      <th>4</th>\n",
              "      <td>151</td>\n",
              "      <td>March - M031990</td>\n",
              "      <td>Andhra Pradesh</td>\n",
              "      <td>Hyderabad</td>\n",
              "      <td>NaN</td>\n",
              "      <td>Industrial Area</td>\n",
              "      <td>4.7</td>\n",
              "      <td>7.5</td>\n",
              "      <td>NaN</td>\n",
              "      <td>NaN</td>\n",
              "      <td>NaN</td>\n",
              "      <td>NaN</td>\n",
              "      <td>1990-03-01</td>\n",
              "    </tr>\n",
              "  </tbody>\n",
              "</table>\n",
              "</div>"
            ],
            "text/plain": [
              "  stn_code       sampling_date  ... pm2_5        date\n",
              "0      150  February - M021990  ...   NaN  1990-02-01\n",
              "1      151  February - M021990  ...   NaN  1990-02-01\n",
              "2      152  February - M021990  ...   NaN  1990-02-01\n",
              "3      150     March - M031990  ...   NaN  1990-03-01\n",
              "4      151     March - M031990  ...   NaN  1990-03-01\n",
              "\n",
              "[5 rows x 13 columns]"
            ]
          },
          "metadata": {
            "tags": []
          },
          "execution_count": 10
        }
      ]
    },
    {
      "cell_type": "code",
      "metadata": {
        "colab": {
          "base_uri": "https://localhost:8080/",
          "height": 252
        },
        "id": "He8FYlZiK6FA",
        "outputId": "2431fb26-6773-4c05-e0f8-a8aa6eddb07d"
      },
      "source": [
        "#display bottom 10 records\r\n",
        "india_csv.tail()"
      ],
      "execution_count": 11,
      "outputs": [
        {
          "output_type": "execute_result",
          "data": {
            "text/html": [
              "<div>\n",
              "<style scoped>\n",
              "    .dataframe tbody tr th:only-of-type {\n",
              "        vertical-align: middle;\n",
              "    }\n",
              "\n",
              "    .dataframe tbody tr th {\n",
              "        vertical-align: top;\n",
              "    }\n",
              "\n",
              "    .dataframe thead th {\n",
              "        text-align: right;\n",
              "    }\n",
              "</style>\n",
              "<table border=\"1\" class=\"dataframe\">\n",
              "  <thead>\n",
              "    <tr style=\"text-align: right;\">\n",
              "      <th></th>\n",
              "      <th>stn_code</th>\n",
              "      <th>sampling_date</th>\n",
              "      <th>state</th>\n",
              "      <th>location</th>\n",
              "      <th>agency</th>\n",
              "      <th>type</th>\n",
              "      <th>so2</th>\n",
              "      <th>no2</th>\n",
              "      <th>rspm</th>\n",
              "      <th>spm</th>\n",
              "      <th>location_monitoring_station</th>\n",
              "      <th>pm2_5</th>\n",
              "      <th>date</th>\n",
              "    </tr>\n",
              "  </thead>\n",
              "  <tbody>\n",
              "    <tr>\n",
              "      <th>435737</th>\n",
              "      <td>SAMP</td>\n",
              "      <td>24-12-15</td>\n",
              "      <td>West Bengal</td>\n",
              "      <td>ULUBERIA</td>\n",
              "      <td>West Bengal State Pollution Control Board</td>\n",
              "      <td>RIRUO</td>\n",
              "      <td>22.0</td>\n",
              "      <td>50.0</td>\n",
              "      <td>143.0</td>\n",
              "      <td>NaN</td>\n",
              "      <td>Inside Rampal Industries,ULUBERIA</td>\n",
              "      <td>NaN</td>\n",
              "      <td>2015-12-24</td>\n",
              "    </tr>\n",
              "    <tr>\n",
              "      <th>435738</th>\n",
              "      <td>SAMP</td>\n",
              "      <td>29-12-15</td>\n",
              "      <td>West Bengal</td>\n",
              "      <td>ULUBERIA</td>\n",
              "      <td>West Bengal State Pollution Control Board</td>\n",
              "      <td>RIRUO</td>\n",
              "      <td>20.0</td>\n",
              "      <td>46.0</td>\n",
              "      <td>171.0</td>\n",
              "      <td>NaN</td>\n",
              "      <td>Inside Rampal Industries,ULUBERIA</td>\n",
              "      <td>NaN</td>\n",
              "      <td>2015-12-29</td>\n",
              "    </tr>\n",
              "    <tr>\n",
              "      <th>435739</th>\n",
              "      <td>NaN</td>\n",
              "      <td>NaN</td>\n",
              "      <td>andaman-and-nicobar-islands</td>\n",
              "      <td>NaN</td>\n",
              "      <td>NaN</td>\n",
              "      <td>NaN</td>\n",
              "      <td>NaN</td>\n",
              "      <td>NaN</td>\n",
              "      <td>NaN</td>\n",
              "      <td>NaN</td>\n",
              "      <td>NaN</td>\n",
              "      <td>NaN</td>\n",
              "      <td>NaN</td>\n",
              "    </tr>\n",
              "    <tr>\n",
              "      <th>435740</th>\n",
              "      <td>NaN</td>\n",
              "      <td>NaN</td>\n",
              "      <td>Lakshadweep</td>\n",
              "      <td>NaN</td>\n",
              "      <td>NaN</td>\n",
              "      <td>NaN</td>\n",
              "      <td>NaN</td>\n",
              "      <td>NaN</td>\n",
              "      <td>NaN</td>\n",
              "      <td>NaN</td>\n",
              "      <td>NaN</td>\n",
              "      <td>NaN</td>\n",
              "      <td>NaN</td>\n",
              "    </tr>\n",
              "    <tr>\n",
              "      <th>435741</th>\n",
              "      <td>NaN</td>\n",
              "      <td>NaN</td>\n",
              "      <td>Tripura</td>\n",
              "      <td>NaN</td>\n",
              "      <td>NaN</td>\n",
              "      <td>NaN</td>\n",
              "      <td>NaN</td>\n",
              "      <td>NaN</td>\n",
              "      <td>NaN</td>\n",
              "      <td>NaN</td>\n",
              "      <td>NaN</td>\n",
              "      <td>NaN</td>\n",
              "      <td>NaN</td>\n",
              "    </tr>\n",
              "  </tbody>\n",
              "</table>\n",
              "</div>"
            ],
            "text/plain": [
              "       stn_code sampling_date  ... pm2_5        date\n",
              "435737     SAMP      24-12-15  ...   NaN  2015-12-24\n",
              "435738     SAMP      29-12-15  ...   NaN  2015-12-29\n",
              "435739      NaN           NaN  ...   NaN         NaN\n",
              "435740      NaN           NaN  ...   NaN         NaN\n",
              "435741      NaN           NaN  ...   NaN         NaN\n",
              "\n",
              "[5 rows x 13 columns]"
            ]
          },
          "metadata": {
            "tags": []
          },
          "execution_count": 11
        }
      ]
    },
    {
      "cell_type": "markdown",
      "metadata": {
        "id": "pyD-BlaX5VeD"
      },
      "source": [
        "## Cleansing the dataset\n",
        "### Dropping of less valued columns:\n",
        "1. stn_code, agency, sampling_date, location_monitoring_agency do not add much value to the dataset in terms of information. Therefore, we can drop those columns.\n",
        "\n",
        "2. Dropping rows where no date is available."
      ]
    },
    {
      "cell_type": "code",
      "metadata": {
        "colab": {
          "base_uri": "https://localhost:8080/"
        },
        "id": "Bw7Jkp075VeE",
        "outputId": "20e2dcb5-2227-446b-8ed7-75c5220a27d9"
      },
      "source": [
        "# Cleaning up the data\n",
        "\n",
        "#dropping columns that aren't required\n",
        "    #i think it's a typo as 'location_monitoring_agency', \n",
        "    #so I will drop 'location_monitoring_station' in stead\n",
        "india_csv.drop(['stn_code', \n",
        "                'agency', \n",
        "                'sampling_date', \n",
        "                'location_monitoring_station'], axis=1, inplace=True)\n",
        "india_csv.info() #make sure columns have been dropped "
      ],
      "execution_count": 12,
      "outputs": [
        {
          "output_type": "stream",
          "text": [
            "<class 'pandas.core.frame.DataFrame'>\n",
            "RangeIndex: 435742 entries, 0 to 435741\n",
            "Data columns (total 9 columns):\n",
            " #   Column    Non-Null Count   Dtype  \n",
            "---  ------    --------------   -----  \n",
            " 0   state     435742 non-null  object \n",
            " 1   location  435739 non-null  object \n",
            " 2   type      430349 non-null  object \n",
            " 3   so2       401096 non-null  float64\n",
            " 4   no2       419509 non-null  float64\n",
            " 5   rspm      395520 non-null  float64\n",
            " 6   spm       198355 non-null  float64\n",
            " 7   pm2_5     9314 non-null    float64\n",
            " 8   date      435735 non-null  object \n",
            "dtypes: float64(5), object(4)\n",
            "memory usage: 29.9+ MB\n"
          ],
          "name": "stdout"
        }
      ]
    },
    {
      "cell_type": "code",
      "metadata": {
        "colab": {
          "base_uri": "https://localhost:8080/"
        },
        "id": "7WzKGCo-M6N0",
        "outputId": "c479b798-7eb3-47bc-c9f1-7aefd1d5f74a"
      },
      "source": [
        "#dropping rows where no date is available\r\n",
        "#india_csv.isnull().sum() -> 7 null in 'date' \r\n",
        "india_csv = india_csv[india_csv['date'].notna()]\r\n",
        "\r\n",
        "india_csv.isnull().sum() #make sure row dropped "
      ],
      "execution_count": 13,
      "outputs": [
        {
          "output_type": "execute_result",
          "data": {
            "text/plain": [
              "state            0\n",
              "location         0\n",
              "type          5390\n",
              "so2          34643\n",
              "no2          16230\n",
              "rspm         40219\n",
              "spm         237380\n",
              "pm2_5       426421\n",
              "date             0\n",
              "dtype: int64"
            ]
          },
          "metadata": {
            "tags": []
          },
          "execution_count": 13
        }
      ]
    },
    {
      "cell_type": "code",
      "metadata": {
        "colab": {
          "base_uri": "https://localhost:8080/"
        },
        "id": "j-IOCHSx5VeF",
        "outputId": "b8587a26-3e58-46ae-f71b-686c77fcf7cc"
      },
      "source": [
        "# displaying final columns (data.columns)\n",
        "india_csv.columns"
      ],
      "execution_count": 14,
      "outputs": [
        {
          "output_type": "execute_result",
          "data": {
            "text/plain": [
              "Index(['state', 'location', 'type', 'so2', 'no2', 'rspm', 'spm', 'pm2_5',\n",
              "       'date'],\n",
              "      dtype='object')"
            ]
          },
          "metadata": {
            "tags": []
          },
          "execution_count": 14
        }
      ]
    },
    {
      "cell_type": "markdown",
      "metadata": {
        "id": "fr25Ctvb5VeF"
      },
      "source": [
        "### Changing the types to uniform format:\n",
        "\n",
        "Notice that the ‘type’ column has values such as ‘Industrial Area’ and ‘Industrial Areas’ — both actually mean the same, so let’s remove such type of stuff and make it uniform. Replace the 'type' values with standard codes as follows:\n",
        "\n",
        "types = {\n",
        "    \"Residential\": \"R\",\n",
        "    \"Residential and others\": \"RO\",\n",
        "    \"Residential, Rural and other Areas\": \"RRO\",\n",
        "    \"Industrial Area\": \"I\",\n",
        "    \"Industrial Areas\": \"I\",\n",
        "    \"Industrial\": \"I\",\n",
        "    \"Sensitive Area\": \"S\",\n",
        "    \"Sensitive Areas\": \"S\",\n",
        "    \"Sensitive\": \"S\",\n",
        "    np.nan: \"RRO\"\n",
        "}\n",
        "\n",
        "data.type = data.type.replace(types)"
      ]
    },
    {
      "cell_type": "code",
      "metadata": {
        "id": "Jj-YPvea5VeG"
      },
      "source": [
        "#Replace the 'type' values with standard codes\n",
        "types = {\"Residential\": \"R\", \n",
        "         \"Residential and others\": \"RO\", \n",
        "         \"Residential, Rural and other Areas\": \"RRO\", \n",
        "         \"Industrial Area\": \"I\", \"Industrial Areas\": \"I\", \n",
        "         \"Industrial\": \"I\", \n",
        "         \"Sensitive Area\": \"S\", \n",
        "         \"Sensitive Areas\": \"S\", \n",
        "         \"Sensitive\": \"S\", \n",
        "         np.nan: \"RRO\" }\n",
        "\n",
        "india_csv.type = india_csv.type.replace(types)\n"
      ],
      "execution_count": 15,
      "outputs": []
    },
    {
      "cell_type": "code",
      "metadata": {
        "colab": {
          "base_uri": "https://localhost:8080/",
          "height": 353
        },
        "id": "dol_y5115VeH",
        "outputId": "cfd99175-f78b-4b6a-ebda-879b3a4fa8c5"
      },
      "source": [
        "# Display top 10 records after codification of 'types'\n",
        "\n",
        "#make sure it's been replaced correctly \n",
        "india_csv.head(10)\n"
      ],
      "execution_count": 16,
      "outputs": [
        {
          "output_type": "execute_result",
          "data": {
            "text/html": [
              "<div>\n",
              "<style scoped>\n",
              "    .dataframe tbody tr th:only-of-type {\n",
              "        vertical-align: middle;\n",
              "    }\n",
              "\n",
              "    .dataframe tbody tr th {\n",
              "        vertical-align: top;\n",
              "    }\n",
              "\n",
              "    .dataframe thead th {\n",
              "        text-align: right;\n",
              "    }\n",
              "</style>\n",
              "<table border=\"1\" class=\"dataframe\">\n",
              "  <thead>\n",
              "    <tr style=\"text-align: right;\">\n",
              "      <th></th>\n",
              "      <th>state</th>\n",
              "      <th>location</th>\n",
              "      <th>type</th>\n",
              "      <th>so2</th>\n",
              "      <th>no2</th>\n",
              "      <th>rspm</th>\n",
              "      <th>spm</th>\n",
              "      <th>pm2_5</th>\n",
              "      <th>date</th>\n",
              "    </tr>\n",
              "  </thead>\n",
              "  <tbody>\n",
              "    <tr>\n",
              "      <th>0</th>\n",
              "      <td>Andhra Pradesh</td>\n",
              "      <td>Hyderabad</td>\n",
              "      <td>RRO</td>\n",
              "      <td>4.8</td>\n",
              "      <td>17.4</td>\n",
              "      <td>NaN</td>\n",
              "      <td>NaN</td>\n",
              "      <td>NaN</td>\n",
              "      <td>1990-02-01</td>\n",
              "    </tr>\n",
              "    <tr>\n",
              "      <th>1</th>\n",
              "      <td>Andhra Pradesh</td>\n",
              "      <td>Hyderabad</td>\n",
              "      <td>I</td>\n",
              "      <td>3.1</td>\n",
              "      <td>7.0</td>\n",
              "      <td>NaN</td>\n",
              "      <td>NaN</td>\n",
              "      <td>NaN</td>\n",
              "      <td>1990-02-01</td>\n",
              "    </tr>\n",
              "    <tr>\n",
              "      <th>2</th>\n",
              "      <td>Andhra Pradesh</td>\n",
              "      <td>Hyderabad</td>\n",
              "      <td>RRO</td>\n",
              "      <td>6.2</td>\n",
              "      <td>28.5</td>\n",
              "      <td>NaN</td>\n",
              "      <td>NaN</td>\n",
              "      <td>NaN</td>\n",
              "      <td>1990-02-01</td>\n",
              "    </tr>\n",
              "    <tr>\n",
              "      <th>3</th>\n",
              "      <td>Andhra Pradesh</td>\n",
              "      <td>Hyderabad</td>\n",
              "      <td>RRO</td>\n",
              "      <td>6.3</td>\n",
              "      <td>14.7</td>\n",
              "      <td>NaN</td>\n",
              "      <td>NaN</td>\n",
              "      <td>NaN</td>\n",
              "      <td>1990-03-01</td>\n",
              "    </tr>\n",
              "    <tr>\n",
              "      <th>4</th>\n",
              "      <td>Andhra Pradesh</td>\n",
              "      <td>Hyderabad</td>\n",
              "      <td>I</td>\n",
              "      <td>4.7</td>\n",
              "      <td>7.5</td>\n",
              "      <td>NaN</td>\n",
              "      <td>NaN</td>\n",
              "      <td>NaN</td>\n",
              "      <td>1990-03-01</td>\n",
              "    </tr>\n",
              "    <tr>\n",
              "      <th>5</th>\n",
              "      <td>Andhra Pradesh</td>\n",
              "      <td>Hyderabad</td>\n",
              "      <td>RRO</td>\n",
              "      <td>6.4</td>\n",
              "      <td>25.7</td>\n",
              "      <td>NaN</td>\n",
              "      <td>NaN</td>\n",
              "      <td>NaN</td>\n",
              "      <td>1990-03-01</td>\n",
              "    </tr>\n",
              "    <tr>\n",
              "      <th>6</th>\n",
              "      <td>Andhra Pradesh</td>\n",
              "      <td>Hyderabad</td>\n",
              "      <td>RRO</td>\n",
              "      <td>5.4</td>\n",
              "      <td>17.1</td>\n",
              "      <td>NaN</td>\n",
              "      <td>NaN</td>\n",
              "      <td>NaN</td>\n",
              "      <td>1990-04-01</td>\n",
              "    </tr>\n",
              "    <tr>\n",
              "      <th>7</th>\n",
              "      <td>Andhra Pradesh</td>\n",
              "      <td>Hyderabad</td>\n",
              "      <td>I</td>\n",
              "      <td>4.7</td>\n",
              "      <td>8.7</td>\n",
              "      <td>NaN</td>\n",
              "      <td>NaN</td>\n",
              "      <td>NaN</td>\n",
              "      <td>1990-04-01</td>\n",
              "    </tr>\n",
              "    <tr>\n",
              "      <th>8</th>\n",
              "      <td>Andhra Pradesh</td>\n",
              "      <td>Hyderabad</td>\n",
              "      <td>RRO</td>\n",
              "      <td>4.2</td>\n",
              "      <td>23.0</td>\n",
              "      <td>NaN</td>\n",
              "      <td>NaN</td>\n",
              "      <td>NaN</td>\n",
              "      <td>1990-04-01</td>\n",
              "    </tr>\n",
              "    <tr>\n",
              "      <th>9</th>\n",
              "      <td>Andhra Pradesh</td>\n",
              "      <td>Hyderabad</td>\n",
              "      <td>I</td>\n",
              "      <td>4.0</td>\n",
              "      <td>8.9</td>\n",
              "      <td>NaN</td>\n",
              "      <td>NaN</td>\n",
              "      <td>NaN</td>\n",
              "      <td>1990-05-01</td>\n",
              "    </tr>\n",
              "  </tbody>\n",
              "</table>\n",
              "</div>"
            ],
            "text/plain": [
              "            state   location type  so2   no2  rspm  spm  pm2_5        date\n",
              "0  Andhra Pradesh  Hyderabad  RRO  4.8  17.4   NaN  NaN    NaN  1990-02-01\n",
              "1  Andhra Pradesh  Hyderabad    I  3.1   7.0   NaN  NaN    NaN  1990-02-01\n",
              "2  Andhra Pradesh  Hyderabad  RRO  6.2  28.5   NaN  NaN    NaN  1990-02-01\n",
              "3  Andhra Pradesh  Hyderabad  RRO  6.3  14.7   NaN  NaN    NaN  1990-03-01\n",
              "4  Andhra Pradesh  Hyderabad    I  4.7   7.5   NaN  NaN    NaN  1990-03-01\n",
              "5  Andhra Pradesh  Hyderabad  RRO  6.4  25.7   NaN  NaN    NaN  1990-03-01\n",
              "6  Andhra Pradesh  Hyderabad  RRO  5.4  17.1   NaN  NaN    NaN  1990-04-01\n",
              "7  Andhra Pradesh  Hyderabad    I  4.7   8.7   NaN  NaN    NaN  1990-04-01\n",
              "8  Andhra Pradesh  Hyderabad  RRO  4.2  23.0   NaN  NaN    NaN  1990-04-01\n",
              "9  Andhra Pradesh  Hyderabad    I  4.0   8.9   NaN  NaN    NaN  1990-05-01"
            ]
          },
          "metadata": {
            "tags": []
          },
          "execution_count": 16
        }
      ]
    },
    {
      "cell_type": "markdown",
      "metadata": {
        "id": "m2JTU_dV5VeH"
      },
      "source": [
        "### Creating a year column\n",
        "To view the trend over a period of time, we need year values for each row and also when you see in most of the values in date column only has ‘year’ value. So, let’s create a new column holding year values. Convert the column to 'datetime' type and extract the year to populate the new column. Display Top 5 records after the conversion."
      ]
    },
    {
      "cell_type": "code",
      "metadata": {
        "id": "LGzDYFjb5VeI"
      },
      "source": [
        "#Create a new column holding year values\r\n",
        "\r\n",
        "#check for the date format \r\n",
        "india_csv.head() #date: 1990-02-01 '%Y-%m-%d'\r\n",
        "\r\n",
        "#convert the column to 'datetime' type and extract the year to populate the new column\r\n",
        "india_csv['date'] =  pd.to_datetime(india_csv['date'], format='%Y-%m-%d')\r\n",
        "india_csv['year'] = pd.DatetimeIndex(india_csv['date']).year\r\n"
      ],
      "execution_count": 17,
      "outputs": []
    },
    {
      "cell_type": "code",
      "metadata": {
        "colab": {
          "base_uri": "https://localhost:8080/",
          "height": 201
        },
        "id": "hHp23SyoZjqU",
        "outputId": "635b41e0-47ae-4faa-8fae-601f3e3c555c"
      },
      "source": [
        "#display Top 5 records after the conversion.\r\n",
        "india_csv.head()"
      ],
      "execution_count": 18,
      "outputs": [
        {
          "output_type": "execute_result",
          "data": {
            "text/html": [
              "<div>\n",
              "<style scoped>\n",
              "    .dataframe tbody tr th:only-of-type {\n",
              "        vertical-align: middle;\n",
              "    }\n",
              "\n",
              "    .dataframe tbody tr th {\n",
              "        vertical-align: top;\n",
              "    }\n",
              "\n",
              "    .dataframe thead th {\n",
              "        text-align: right;\n",
              "    }\n",
              "</style>\n",
              "<table border=\"1\" class=\"dataframe\">\n",
              "  <thead>\n",
              "    <tr style=\"text-align: right;\">\n",
              "      <th></th>\n",
              "      <th>state</th>\n",
              "      <th>location</th>\n",
              "      <th>type</th>\n",
              "      <th>so2</th>\n",
              "      <th>no2</th>\n",
              "      <th>rspm</th>\n",
              "      <th>spm</th>\n",
              "      <th>pm2_5</th>\n",
              "      <th>date</th>\n",
              "      <th>year</th>\n",
              "    </tr>\n",
              "  </thead>\n",
              "  <tbody>\n",
              "    <tr>\n",
              "      <th>0</th>\n",
              "      <td>Andhra Pradesh</td>\n",
              "      <td>Hyderabad</td>\n",
              "      <td>RRO</td>\n",
              "      <td>4.8</td>\n",
              "      <td>17.4</td>\n",
              "      <td>NaN</td>\n",
              "      <td>NaN</td>\n",
              "      <td>NaN</td>\n",
              "      <td>1990-02-01</td>\n",
              "      <td>1990</td>\n",
              "    </tr>\n",
              "    <tr>\n",
              "      <th>1</th>\n",
              "      <td>Andhra Pradesh</td>\n",
              "      <td>Hyderabad</td>\n",
              "      <td>I</td>\n",
              "      <td>3.1</td>\n",
              "      <td>7.0</td>\n",
              "      <td>NaN</td>\n",
              "      <td>NaN</td>\n",
              "      <td>NaN</td>\n",
              "      <td>1990-02-01</td>\n",
              "      <td>1990</td>\n",
              "    </tr>\n",
              "    <tr>\n",
              "      <th>2</th>\n",
              "      <td>Andhra Pradesh</td>\n",
              "      <td>Hyderabad</td>\n",
              "      <td>RRO</td>\n",
              "      <td>6.2</td>\n",
              "      <td>28.5</td>\n",
              "      <td>NaN</td>\n",
              "      <td>NaN</td>\n",
              "      <td>NaN</td>\n",
              "      <td>1990-02-01</td>\n",
              "      <td>1990</td>\n",
              "    </tr>\n",
              "    <tr>\n",
              "      <th>3</th>\n",
              "      <td>Andhra Pradesh</td>\n",
              "      <td>Hyderabad</td>\n",
              "      <td>RRO</td>\n",
              "      <td>6.3</td>\n",
              "      <td>14.7</td>\n",
              "      <td>NaN</td>\n",
              "      <td>NaN</td>\n",
              "      <td>NaN</td>\n",
              "      <td>1990-03-01</td>\n",
              "      <td>1990</td>\n",
              "    </tr>\n",
              "    <tr>\n",
              "      <th>4</th>\n",
              "      <td>Andhra Pradesh</td>\n",
              "      <td>Hyderabad</td>\n",
              "      <td>I</td>\n",
              "      <td>4.7</td>\n",
              "      <td>7.5</td>\n",
              "      <td>NaN</td>\n",
              "      <td>NaN</td>\n",
              "      <td>NaN</td>\n",
              "      <td>1990-03-01</td>\n",
              "      <td>1990</td>\n",
              "    </tr>\n",
              "  </tbody>\n",
              "</table>\n",
              "</div>"
            ],
            "text/plain": [
              "            state   location type  so2   no2  rspm  spm  pm2_5       date  year\n",
              "0  Andhra Pradesh  Hyderabad  RRO  4.8  17.4   NaN  NaN    NaN 1990-02-01  1990\n",
              "1  Andhra Pradesh  Hyderabad    I  3.1   7.0   NaN  NaN    NaN 1990-02-01  1990\n",
              "2  Andhra Pradesh  Hyderabad  RRO  6.2  28.5   NaN  NaN    NaN 1990-02-01  1990\n",
              "3  Andhra Pradesh  Hyderabad  RRO  6.3  14.7   NaN  NaN    NaN 1990-03-01  1990\n",
              "4  Andhra Pradesh  Hyderabad    I  4.7   7.5   NaN  NaN    NaN 1990-03-01  1990"
            ]
          },
          "metadata": {
            "tags": []
          },
          "execution_count": 18
        }
      ]
    },
    {
      "cell_type": "markdown",
      "metadata": {
        "id": "1lQa9yfG5VeJ"
      },
      "source": [
        "### Handling Missing Values\n",
        "\n",
        "The column such as SO2, NO2, rspm, spm, pm2_5 are the ones which contribute much to our analysis. So, we need to remove null from those columns to avoid inaccuracy in the prediction.\n",
        "We use the Imputer from sklearn.preprocessing to fill the missing values in every column with the mean."
      ]
    },
    {
      "cell_type": "code",
      "metadata": {
        "collapsed": true,
        "id": "ZUFERsHs5VeJ",
        "colab": {
          "base_uri": "https://localhost:8080/"
        },
        "outputId": "af95459f-a1a5-4dbc-a7aa-6f3264ac74ef"
      },
      "source": [
        "#define columns of importance, which shall be used reguarly \n",
        "    #(COLS =SO2, NO2, rspm, spm, pm2_5 )\n",
        "\n",
        "#invoke SimpleImputer \n",
        "from sklearn.impute import SimpleImputer\n",
        "\n",
        "#fill missing values in every col using 'mean' \n",
        "india_csv.info() #check for information \n",
        "\n",
        "cols = ['so2','no2', 'rspm', 'spm', 'pm2_5']\n",
        "impute = SimpleImputer(missing_values=np.nan, strategy='mean')\n",
        "impute = impute.fit(india_csv[cols])\n",
        "india_csv[cols] = impute.transform(india_csv[cols])\n",
        "\n",
        "#another way of doing this: (more complicated)\n",
        "##create two df using the important col and rest col\n",
        "#cols = india_csv[['so2','no2', 'rspm', 'spm', 'pm2_5']]\n",
        "#other = india_csv[['state', 'location', 'type', 'date', 'year']]\n",
        "\n",
        "##use imputer on important col \n",
        "#impute = SimpleImputer(missing_values=np.nan, strategy='mean')\n",
        "#cols = pd.DataFrame(impute.fit_transform(cols),\n",
        "#                    columns = cols.columns) \n",
        "\n",
        "##concat two df together to a new df \n",
        "#india2 = pd.concat([cols, other], axis = 1)"
      ],
      "execution_count": 19,
      "outputs": [
        {
          "output_type": "stream",
          "text": [
            "<class 'pandas.core.frame.DataFrame'>\n",
            "Int64Index: 435735 entries, 0 to 435738\n",
            "Data columns (total 10 columns):\n",
            " #   Column    Non-Null Count   Dtype         \n",
            "---  ------    --------------   -----         \n",
            " 0   state     435735 non-null  object        \n",
            " 1   location  435735 non-null  object        \n",
            " 2   type      435735 non-null  object        \n",
            " 3   so2       401092 non-null  float64       \n",
            " 4   no2       419505 non-null  float64       \n",
            " 5   rspm      395516 non-null  float64       \n",
            " 6   spm       198355 non-null  float64       \n",
            " 7   pm2_5     9314 non-null    float64       \n",
            " 8   date      435735 non-null  datetime64[ns]\n",
            " 9   year      435735 non-null  int64         \n",
            "dtypes: datetime64[ns](1), float64(5), int64(1), object(3)\n",
            "memory usage: 36.6+ MB\n"
          ],
          "name": "stdout"
        }
      ]
    },
    {
      "cell_type": "code",
      "metadata": {
        "colab": {
          "base_uri": "https://localhost:8080/"
        },
        "id": "VXoT7nXrfJaj",
        "outputId": "cd1625e3-ed8e-4cba-b99a-fa032c1ed4a3"
      },
      "source": [
        "# Display data.info after the transformation\r\n",
        "india_csv.info()\r\n",
        "    #all 435735 non-null"
      ],
      "execution_count": 20,
      "outputs": [
        {
          "output_type": "stream",
          "text": [
            "<class 'pandas.core.frame.DataFrame'>\n",
            "Int64Index: 435735 entries, 0 to 435738\n",
            "Data columns (total 10 columns):\n",
            " #   Column    Non-Null Count   Dtype         \n",
            "---  ------    --------------   -----         \n",
            " 0   state     435735 non-null  object        \n",
            " 1   location  435735 non-null  object        \n",
            " 2   type      435735 non-null  object        \n",
            " 3   so2       435735 non-null  float64       \n",
            " 4   no2       435735 non-null  float64       \n",
            " 5   rspm      435735 non-null  float64       \n",
            " 6   spm       435735 non-null  float64       \n",
            " 7   pm2_5     435735 non-null  float64       \n",
            " 8   date      435735 non-null  datetime64[ns]\n",
            " 9   year      435735 non-null  int64         \n",
            "dtypes: datetime64[ns](1), float64(5), int64(1), object(3)\n",
            "memory usage: 36.6+ MB\n"
          ],
          "name": "stdout"
        }
      ]
    },
    {
      "cell_type": "code",
      "metadata": {
        "colab": {
          "base_uri": "https://localhost:8080/"
        },
        "id": "K7GaDr38ppd_",
        "outputId": "55e8c5d0-51dd-4ed8-8b8a-04aa9619113b"
      },
      "source": [
        "# Display that there are no more missing values in the dataset\r\n",
        "india_csv.shape #num of rows = non-null -> no more missing values "
      ],
      "execution_count": 21,
      "outputs": [
        {
          "output_type": "execute_result",
          "data": {
            "text/plain": [
              "(435735, 10)"
            ]
          },
          "metadata": {
            "tags": []
          },
          "execution_count": 21
        }
      ]
    },
    {
      "cell_type": "markdown",
      "metadata": {
        "id": "XNoDedcC5VeK"
      },
      "source": [
        "## Statewise Grouping of so2, no2, rspm, spm values\n",
        "\n",
        "Calculate median values of so2, no2, rspm, spm for each state and display in (a) as table (b) bar chart, with values sorted in ascending order. Separate section for each of the component. Use matplotlib()."
      ]
    },
    {
      "cell_type": "markdown",
      "metadata": {
        "id": "qC5hJvVW5VeK"
      },
      "source": [
        "### so2 status"
      ]
    },
    {
      "cell_type": "code",
      "metadata": {
        "id": "nv0dAaRO5VeL",
        "colab": {
          "base_uri": "https://localhost:8080/"
        },
        "outputId": "c269613c-ec56-4341-8295-70fc4afd06b8"
      },
      "source": [
        "#group data based on states \r\n",
        "    #median for SO2 \r\n",
        "    #sort it \r\n",
        "    #states with higher and lower level SO2\r\n",
        "india_csv.groupby('state').so2.mean().sort_values() \r\n",
        "india_csv.groupby('state').so2.mean().sort_values(ascending = False)"
      ],
      "execution_count": 22,
      "outputs": [
        {
          "output_type": "execute_result",
          "data": {
            "text/plain": [
              "state\n",
              "Uttaranchal             23.724521\n",
              "Jharkhand               23.235550\n",
              "Sikkim                  19.800000\n",
              "Bihar                   18.825123\n",
              "Uttarakhand             18.571547\n",
              "Maharashtra             17.143809\n",
              "Gujarat                 16.631424\n",
              "Haryana                 13.799114\n",
              "Chhattisgarh            12.717300\n",
              "West Bengal             12.517751\n",
              "Uttar Pradesh           12.428221\n",
              "Puducherry              11.912749\n",
              "Madhya Pradesh          11.485318\n",
              "Tamil Nadu              11.298839\n",
              "Punjab                  10.636676\n",
              "Karnataka               10.257597\n",
              "Meghalaya                9.203895\n",
              "Dadra & Nagar Haveli     8.954491\n",
              "Delhi                    8.918572\n",
              "Manipur                  8.550011\n",
              "Daman & Diu              8.196329\n",
              "Rajasthan                7.699848\n",
              "Goa                      7.514605\n",
              "Andhra Pradesh           7.377196\n",
              "Jammu & Kashmir          7.239967\n",
              "Assam                    6.751470\n",
              "Chandigarh               6.601066\n",
              "Odisha                   6.198968\n",
              "Kerala                   5.842146\n",
              "Telangana                5.460775\n",
              "Nagaland                 5.160995\n",
              "Arunachal Pradesh        5.134187\n",
              "Himachal Pradesh         4.914030\n",
              "Mizoram                  3.695306\n",
              "Name: so2, dtype: float64"
            ]
          },
          "metadata": {
            "tags": []
          },
          "execution_count": 22
        }
      ]
    },
    {
      "cell_type": "code",
      "metadata": {
        "colab": {
          "base_uri": "https://localhost:8080/",
          "height": 1000
        },
        "id": "jdP5aEZAt8ch",
        "outputId": "a51e2690-d57a-4635-d567-5cd747061965"
      },
      "source": [
        "%matplotlib inline \r\n",
        "#in case running errors \r\n",
        "\r\n",
        "#graphic visualization with values sorted in ascending order \r\n",
        "#(a) as table \r\n",
        "table = india_csv.groupby('state').so2.mean().sort_values() #same as above \r\n",
        "print(table)\r\n",
        "\r\n",
        "#(b) bar chart\r\n",
        "stateso2 = india_csv.groupby(['state'])['so2'].mean()\r\n",
        "plt.figure(figsize=(20,10))\r\n",
        "plt.xlabel('State')\r\n",
        "plt.ylabel('Average SO2')\r\n",
        "plt.title('Average SO2 Content Per State')\r\n",
        "plt.bar(stateso2.index, stateso2, color = 'red')\r\n",
        "plt.xticks(rotation = 50)\r\n",
        "plt.show()"
      ],
      "execution_count": 23,
      "outputs": [
        {
          "output_type": "stream",
          "text": [
            "state\n",
            "Mizoram                  3.695306\n",
            "Himachal Pradesh         4.914030\n",
            "Arunachal Pradesh        5.134187\n",
            "Nagaland                 5.160995\n",
            "Telangana                5.460775\n",
            "Kerala                   5.842146\n",
            "Odisha                   6.198968\n",
            "Chandigarh               6.601066\n",
            "Assam                    6.751470\n",
            "Jammu & Kashmir          7.239967\n",
            "Andhra Pradesh           7.377196\n",
            "Goa                      7.514605\n",
            "Rajasthan                7.699848\n",
            "Daman & Diu              8.196329\n",
            "Manipur                  8.550011\n",
            "Delhi                    8.918572\n",
            "Dadra & Nagar Haveli     8.954491\n",
            "Meghalaya                9.203895\n",
            "Karnataka               10.257597\n",
            "Punjab                  10.636676\n",
            "Tamil Nadu              11.298839\n",
            "Madhya Pradesh          11.485318\n",
            "Puducherry              11.912749\n",
            "Uttar Pradesh           12.428221\n",
            "West Bengal             12.517751\n",
            "Chhattisgarh            12.717300\n",
            "Haryana                 13.799114\n",
            "Gujarat                 16.631424\n",
            "Maharashtra             17.143809\n",
            "Uttarakhand             18.571547\n",
            "Bihar                   18.825123\n",
            "Sikkim                  19.800000\n",
            "Jharkhand               23.235550\n",
            "Uttaranchal             23.724521\n",
            "Name: so2, dtype: float64\n"
          ],
          "name": "stdout"
        },
        {
          "output_type": "display_data",
          "data": {
            "image/png": "[encoded data removed]",
            "text/plain": [
              "<Figure size 1440x720 with 1 Axes>"
            ]
          },
          "metadata": {
            "tags": [],
            "needs_background": "light"
          }
        }
      ]
    },
    {
      "cell_type": "markdown",
      "metadata": {
        "id": "Ljq_CbepBbSm"
      },
      "source": [
        "##Observation: \r\n",
        "\r\n",
        "\r\n",
        "\r\n",
        "1.   There are two states that have super high level of sulphur dioxide content in the air: Uttarakhand and Jharkhand.\r\n",
        "2.   The state that have the lowest level of sulphur dioxide content is Mizoram. \r\n",
        "3.   The general level of sulphur dioxide in the air for each state in India is range from 8 μg/m3 to 15 μg/m3.\r\n",
        "\r\n",
        "\r\n",
        "\r\n"
      ]
    },
    {
      "cell_type": "markdown",
      "metadata": {
        "id": "XFRZZT2D5VeL"
      },
      "source": [
        "### no2 status"
      ]
    },
    {
      "cell_type": "code",
      "metadata": {
        "id": "2XVGKNAv5VeM",
        "colab": {
          "base_uri": "https://localhost:8080/"
        },
        "outputId": "8ab8ab9b-8d12-4cc2-f494-c171c5972617"
      },
      "source": [
        "#group data based on states \r\n",
        "    #median for NO2 \r\n",
        "    #sort it \r\n",
        "    #states with higher and lower level NO2\r\n",
        "india_csv.groupby('state').no2.mean().sort_values() \r\n",
        "india_csv.groupby('state').no2.mean().sort_values(ascending = False)"
      ],
      "execution_count": 24,
      "outputs": [
        {
          "output_type": "execute_result",
          "data": {
            "text/plain": [
              "state\n",
              "West Bengal             58.852111\n",
              "Delhi                   51.728225\n",
              "Jharkhand               42.975081\n",
              "Bihar                   36.173284\n",
              "Maharashtra             31.988249\n",
              "Rajasthan               30.375852\n",
              "Punjab                  28.044734\n",
              "Uttar Pradesh           27.548281\n",
              "Uttaranchal             27.068046\n",
              "Sikkim                  26.800000\n",
              "Uttarakhand             26.454148\n",
              "Chhattisgarh            24.858597\n",
              "Gujarat                 24.069319\n",
              "Telangana               23.880145\n",
              "Haryana                 23.711705\n",
              "Karnataka               22.782283\n",
              "Andhra Pradesh          21.790235\n",
              "Tamil Nadu              21.727065\n",
              "Manipur                 20.173684\n",
              "Chandigarh              19.407632\n",
              "Madhya Pradesh          19.313769\n",
              "Dadra & Nagar Haveli    18.353231\n",
              "Odisha                  17.025434\n",
              "Daman & Diu             16.168926\n",
              "Puducherry              15.891553\n",
              "Kerala                  15.052342\n",
              "Himachal Pradesh        14.848523\n",
              "Assam                   14.838640\n",
              "Goa                     13.462393\n",
              "Jammu & Kashmir         12.445239\n",
              "Meghalaya               11.843235\n",
              "Arunachal Pradesh       10.893687\n",
              "Nagaland                10.467140\n",
              "Mizoram                  8.531138\n",
              "Name: no2, dtype: float64"
            ]
          },
          "metadata": {
            "tags": []
          },
          "execution_count": 24
        }
      ]
    },
    {
      "cell_type": "code",
      "metadata": {
        "colab": {
          "base_uri": "https://localhost:8080/",
          "height": 1000
        },
        "id": "n6oGoh5QDa-X",
        "outputId": "85f05efc-d29c-441c-d434-bbde9003effb"
      },
      "source": [
        "%matplotlib inline \r\n",
        "#in case running errors \r\n",
        "\r\n",
        "#graphic visualization with values sorted in ascending order \r\n",
        "#(a) as table \r\n",
        "table2 = india_csv.groupby('state').no2.mean().sort_values() #same as above \r\n",
        "print(table2)\r\n",
        "\r\n",
        "#(b) bar chart\r\n",
        "stateno2 = india_csv.groupby(['state'])['no2'].mean()\r\n",
        "plt.figure(figsize=(20,10))\r\n",
        "plt.xlabel('State')\r\n",
        "plt.ylabel('Average NO2')\r\n",
        "plt.title('Average NO2 Content Per State')\r\n",
        "plt.bar(stateno2.index, stateno2, color = 'yellow')\r\n",
        "plt.xticks(rotation = 50)\r\n",
        "plt.show()"
      ],
      "execution_count": 25,
      "outputs": [
        {
          "output_type": "stream",
          "text": [
            "state\n",
            "Mizoram                  8.531138\n",
            "Nagaland                10.467140\n",
            "Arunachal Pradesh       10.893687\n",
            "Meghalaya               11.843235\n",
            "Jammu & Kashmir         12.445239\n",
            "Goa                     13.462393\n",
            "Assam                   14.838640\n",
            "Himachal Pradesh        14.848523\n",
            "Kerala                  15.052342\n",
            "Puducherry              15.891553\n",
            "Daman & Diu             16.168926\n",
            "Odisha                  17.025434\n",
            "Dadra & Nagar Haveli    18.353231\n",
            "Madhya Pradesh          19.313769\n",
            "Chandigarh              19.407632\n",
            "Manipur                 20.173684\n",
            "Tamil Nadu              21.727065\n",
            "Andhra Pradesh          21.790235\n",
            "Karnataka               22.782283\n",
            "Haryana                 23.711705\n",
            "Telangana               23.880145\n",
            "Gujarat                 24.069319\n",
            "Chhattisgarh            24.858597\n",
            "Uttarakhand             26.454148\n",
            "Sikkim                  26.800000\n",
            "Uttaranchal             27.068046\n",
            "Uttar Pradesh           27.548281\n",
            "Punjab                  28.044734\n",
            "Rajasthan               30.375852\n",
            "Maharashtra             31.988249\n",
            "Bihar                   36.173284\n",
            "Jharkhand               42.975081\n",
            "Delhi                   51.728225\n",
            "West Bengal             58.852111\n",
            "Name: no2, dtype: float64\n"
          ],
          "name": "stdout"
        },
        {
          "output_type": "display_data",
          "data": {
            "image/png": "[encoded data removed]",
            "text/plain": [
              "<Figure size 1440x720 with 1 Axes>"
            ]
          },
          "metadata": {
            "tags": [],
            "needs_background": "light"
          }
        }
      ]
    },
    {
      "cell_type": "markdown",
      "metadata": {
        "id": "AMldnGrgEW2t"
      },
      "source": [
        "##Observation: \r\n",
        "\r\n",
        "\r\n",
        "\r\n",
        "1.   There are two states that have super high level of nitrogen dioxide content in the air: West Bengal and Delhi (one of the most famous state in India).\r\n",
        "2.   The state that have the lowest level of nitrogen dioxide content is Mizoram as well.\r\n",
        "3.   The general level of nitrogen dioxide in the air for each state in India is range from 10 μg/m3 to 30 μg/m3 that is comparatively higher than the general level of sulphur dioxide. \r\n",
        "\r\n",
        "\r\n",
        "\r\n"
      ]
    },
    {
      "cell_type": "markdown",
      "metadata": {
        "id": "3uFu1qVl5VeM"
      },
      "source": [
        "### rspm status"
      ]
    },
    {
      "cell_type": "code",
      "metadata": {
        "id": "n_Vr0Ds15VeN",
        "colab": {
          "base_uri": "https://localhost:8080/"
        },
        "outputId": "5aa1d6f2-adbc-4d55-a618-c5ee42b0fa9c"
      },
      "source": [
        "#group data based on states \r\n",
        "    #median for rspm \r\n",
        "    #sort it \r\n",
        "    #states with higher and lower level rspm\r\n",
        "india_csv.groupby('state').rspm.mean().sort_values() \r\n",
        "india_csv.groupby('state').rspm.mean().sort_values(ascending = False)"
      ],
      "execution_count": 26,
      "outputs": [
        {
          "output_type": "execute_result",
          "data": {
            "text/plain": [
              "state\n",
              "Delhi                   177.293754\n",
              "Uttar Pradesh           170.096793\n",
              "Jharkhand               167.607692\n",
              "Punjab                  163.842797\n",
              "Uttarakhand             148.078133\n",
              "Haryana                 143.898361\n",
              "Rajasthan               138.599772\n",
              "Chhattisgarh            124.068985\n",
              "Uttaranchal             120.791796\n",
              "Bihar                   117.547152\n",
              "Jammu & Kashmir         117.235577\n",
              "West Bengal             114.717176\n",
              "Madhya Pradesh          113.818101\n",
              "Maharashtra             102.082137\n",
              "Gujarat                  99.342729\n",
              "Chandigarh               97.130388\n",
              "Himachal Pradesh         95.034445\n",
              "Assam                    93.941847\n",
              "Daman & Diu              89.137788\n",
              "Dadra & Nagar Haveli     86.520956\n",
              "Telangana                85.054969\n",
              "Odisha                   84.855968\n",
              "Nagaland                 83.367370\n",
              "Karnataka                80.860261\n",
              "Andhra Pradesh           79.507964\n",
              "Arunachal Pradesh        76.987034\n",
              "Meghalaya                70.456893\n",
              "Tamil Nadu               70.287956\n",
              "Manipur                  69.815789\n",
              "Goa                      63.752619\n",
              "Puducherry               56.432061\n",
              "Kerala                   55.451298\n",
              "Mizoram                  42.840327\n",
              "Sikkim                   32.000000\n",
              "Name: rspm, dtype: float64"
            ]
          },
          "metadata": {
            "tags": []
          },
          "execution_count": 26
        }
      ]
    },
    {
      "cell_type": "code",
      "metadata": {
        "colab": {
          "base_uri": "https://localhost:8080/",
          "height": 1000
        },
        "id": "vKFzWyk9Dfjg",
        "outputId": "e799a67e-bf90-40bb-8474-366c442d680e"
      },
      "source": [
        "%matplotlib inline \r\n",
        "#in case running errors \r\n",
        "\r\n",
        "#graphic visualization with values sorted in ascending order \r\n",
        "#(a) as table \r\n",
        "table3 = india_csv.groupby('state').rspm.mean().sort_values() #same as above \r\n",
        "print(table3)\r\n",
        "\r\n",
        "#(b) bar chart\r\n",
        "staterspm = india_csv.groupby(['state'])['rspm'].mean()\r\n",
        "plt.figure(figsize=(20,10))\r\n",
        "plt.xlabel('State')\r\n",
        "plt.ylabel('Average RSPM')\r\n",
        "plt.title('Average RSPM Content Per State')\r\n",
        "plt.bar(staterspm.index, staterspm, color = 'blue')\r\n",
        "plt.xticks(rotation = 50)\r\n",
        "plt.show()"
      ],
      "execution_count": 27,
      "outputs": [
        {
          "output_type": "stream",
          "text": [
            "state\n",
            "Sikkim                   32.000000\n",
            "Mizoram                  42.840327\n",
            "Kerala                   55.451298\n",
            "Puducherry               56.432061\n",
            "Goa                      63.752619\n",
            "Manipur                  69.815789\n",
            "Tamil Nadu               70.287956\n",
            "Meghalaya                70.456893\n",
            "Arunachal Pradesh        76.987034\n",
            "Andhra Pradesh           79.507964\n",
            "Karnataka                80.860261\n",
            "Nagaland                 83.367370\n",
            "Odisha                   84.855968\n",
            "Telangana                85.054969\n",
            "Dadra & Nagar Haveli     86.520956\n",
            "Daman & Diu              89.137788\n",
            "Assam                    93.941847\n",
            "Himachal Pradesh         95.034445\n",
            "Chandigarh               97.130388\n",
            "Gujarat                  99.342729\n",
            "Maharashtra             102.082137\n",
            "Madhya Pradesh          113.818101\n",
            "West Bengal             114.717176\n",
            "Jammu & Kashmir         117.235577\n",
            "Bihar                   117.547152\n",
            "Uttaranchal             120.791796\n",
            "Chhattisgarh            124.068985\n",
            "Rajasthan               138.599772\n",
            "Haryana                 143.898361\n",
            "Uttarakhand             148.078133\n",
            "Punjab                  163.842797\n",
            "Jharkhand               167.607692\n",
            "Uttar Pradesh           170.096793\n",
            "Delhi                   177.293754\n",
            "Name: rspm, dtype: float64\n"
          ],
          "name": "stdout"
        },
        {
          "output_type": "display_data",
          "data": {
            "image/png": "[encoded data removed]",
            "text/plain": [
              "<Figure size 1440x720 with 1 Axes>"
            ]
          },
          "metadata": {
            "tags": [],
            "needs_background": "light"
          }
        }
      ]
    },
    {
      "cell_type": "markdown",
      "metadata": {
        "id": "i469ikHoEaJx"
      },
      "source": [
        "##Observation: \r\n",
        "\r\n",
        "\r\n",
        "\r\n",
        "1.   There are four states that have super high level of Respirable Suspended Particulate Matter content in the air: Delhi, Jharkhand, Punjab, and Uttar Pradesh.\r\n",
        "2.   The state that have the lowest level of Respirable Suspended Particulate Matter content is Sikkim. \r\n",
        "3.   The general level of Respirable Suspended Particulate Matter in the air for each state in India is range from 50 μg/m3 to 125 μg/m3, and is comparatively higher than the general level of nitrogen dioxide. \r\n",
        "\r\n",
        "\r\n"
      ]
    },
    {
      "cell_type": "markdown",
      "metadata": {
        "id": "38vYaNhQ5VeN"
      },
      "source": [
        "### spm status"
      ]
    },
    {
      "cell_type": "code",
      "metadata": {
        "id": "bDHoW1j75VeO",
        "colab": {
          "base_uri": "https://localhost:8080/"
        },
        "outputId": "63e1f638-a511-4d84-d13d-d960eb1d4029"
      },
      "source": [
        "#group data based on states \r\n",
        "    #median for spm\r\n",
        "    #sort it \r\n",
        "    #states with higher and lower level spm\r\n",
        "india_csv.groupby('state').spm.mean().sort_values() \r\n",
        "india_csv.groupby('state').spm.mean().sort_values(ascending = False)"
      ],
      "execution_count": 28,
      "outputs": [
        {
          "output_type": "execute_result",
          "data": {
            "text/plain": [
              "state\n",
              "Delhi                   334.814468\n",
              "Uttar Pradesh           298.972557\n",
              "Uttaranchal             282.238307\n",
              "Rajasthan               270.046908\n",
              "Bihar                   264.703658\n",
              "Jharkhand               246.335689\n",
              "Haryana                 245.634816\n",
              "West Bengal             228.150079\n",
              "Uttarakhand             226.483025\n",
              "Chhattisgarh            226.072782\n",
              "Punjab                  224.255881\n",
              "Telangana               220.783480\n",
              "Arunachal Pradesh       220.783480\n",
              "Jammu & Kashmir         218.973215\n",
              "Himachal Pradesh        216.232728\n",
              "Maharashtra             215.037305\n",
              "Madhya Pradesh          214.318952\n",
              "Chandigarh              212.225380\n",
              "Andhra Pradesh          211.607704\n",
              "Gujarat                 201.689507\n",
              "Assam                   200.253103\n",
              "Karnataka               197.784357\n",
              "Odisha                  190.696436\n",
              "Meghalaya               190.470766\n",
              "Dadra & Nagar Haveli    187.344003\n",
              "Mizoram                 186.861018\n",
              "Tamil Nadu              177.265561\n",
              "Nagaland                176.425962\n",
              "Daman & Diu             166.521758\n",
              "Kerala                  162.577449\n",
              "Manipur                 158.657895\n",
              "Puducherry              153.246263\n",
              "Goa                     139.590582\n",
              "Sikkim                   75.000000\n",
              "Name: spm, dtype: float64"
            ]
          },
          "metadata": {
            "tags": []
          },
          "execution_count": 28
        }
      ]
    },
    {
      "cell_type": "code",
      "metadata": {
        "colab": {
          "base_uri": "https://localhost:8080/",
          "height": 1000
        },
        "id": "f4JPk2WnDiwC",
        "outputId": "1d1deb52-4f40-4c67-ce58-875b6639559b"
      },
      "source": [
        "%matplotlib inline \r\n",
        "#in case running errors \r\n",
        "\r\n",
        "#graphic visualization with values sorted in ascending order \r\n",
        "#(a) as table \r\n",
        "table4 = india_csv.groupby('state').spm.mean().sort_values() #same as above \r\n",
        "print(table4)\r\n",
        "\r\n",
        "#(b) bar chart\r\n",
        "statespm = india_csv.groupby(['state'])['spm'].mean()\r\n",
        "plt.figure(figsize=(20,10))\r\n",
        "plt.xlabel('State')\r\n",
        "plt.ylabel('Average SPM')\r\n",
        "plt.title('Average SPM Content Per State')\r\n",
        "plt.bar(statespm.index, statespm, color = 'green')\r\n",
        "plt.xticks(rotation = 50)\r\n",
        "plt.show()"
      ],
      "execution_count": 29,
      "outputs": [
        {
          "output_type": "stream",
          "text": [
            "state\n",
            "Sikkim                   75.000000\n",
            "Goa                     139.590582\n",
            "Puducherry              153.246263\n",
            "Manipur                 158.657895\n",
            "Kerala                  162.577449\n",
            "Daman & Diu             166.521758\n",
            "Nagaland                176.425962\n",
            "Tamil Nadu              177.265561\n",
            "Mizoram                 186.861018\n",
            "Dadra & Nagar Haveli    187.344003\n",
            "Meghalaya               190.470766\n",
            "Odisha                  190.696436\n",
            "Karnataka               197.784357\n",
            "Assam                   200.253103\n",
            "Gujarat                 201.689507\n",
            "Andhra Pradesh          211.607704\n",
            "Chandigarh              212.225380\n",
            "Madhya Pradesh          214.318952\n",
            "Maharashtra             215.037305\n",
            "Himachal Pradesh        216.232728\n",
            "Jammu & Kashmir         218.973215\n",
            "Arunachal Pradesh       220.783480\n",
            "Telangana               220.783480\n",
            "Punjab                  224.255881\n",
            "Chhattisgarh            226.072782\n",
            "Uttarakhand             226.483025\n",
            "West Bengal             228.150079\n",
            "Haryana                 245.634816\n",
            "Jharkhand               246.335689\n",
            "Bihar                   264.703658\n",
            "Rajasthan               270.046908\n",
            "Uttaranchal             282.238307\n",
            "Uttar Pradesh           298.972557\n",
            "Delhi                   334.814468\n",
            "Name: spm, dtype: float64\n"
          ],
          "name": "stdout"
        },
        {
          "output_type": "display_data",
          "data": {
            "image/png": "[encoded data removed]",
            "text/plain": [
              "<Figure size 1440x720 with 1 Axes>"
            ]
          },
          "metadata": {
            "tags": [],
            "needs_background": "light"
          }
        }
      ]
    },
    {
      "cell_type": "markdown",
      "metadata": {
        "id": "MS2qllBGEbm5"
      },
      "source": [
        "##Observation: \r\n",
        "\r\n",
        "\r\n",
        "\r\n",
        "1.   There is one states that have super high level of Suspended Particulate Matter content in the air and it is Delhi.\r\n",
        "2.   The state that have the lowest level of Suspended Particulate Matter content is Sikkim. \r\n",
        "3.   The general level of Suspended Particulate Matter in the air for each state in India is range from 150 μg/m3 to 240 μg/m3, that is the highest genearl level among all four parameters comparatively.\r\n",
        "\r\n",
        "\r\n",
        "\r\n",
        "\r\n"
      ]
    },
    {
      "cell_type": "markdown",
      "metadata": {
        "id": "rcAHsMrv5VeO"
      },
      "source": [
        "### What is the yearly trend in a particular state, say ‘Andhra Pradesh’?\n",
        "\n",
        "Create a new dataframe containing the NO2, SO2, rspm, and spm data regarding state ‘Andhra Pradesh’ only and group it by ‘year’. Display top 5 records after."
      ]
    },
    {
      "cell_type": "code",
      "metadata": {
        "id": "zF2MpT6W5VeP",
        "colab": {
          "base_uri": "https://localhost:8080/",
          "height": 231
        },
        "outputId": "4294fc08-b408-41b6-ffff-89a01e17eed1"
      },
      "source": [
        "#create a new df regarding 'Andhra Pradesh'\r\n",
        "apstate = india_csv.loc[india_csv.state == 'Andhra Pradesh']\r\n",
        "\r\n",
        "apstate = apstate.groupby('year')[['so2', 'no2', 'rspm', 'spm']]\r\n",
        "apstate.head()\r\n",
        "#apstate.describe()\r\n",
        "#apstate.nlargest(5)\r\n",
        "\r\n",
        "#Another direction: \r\n",
        "apstate = india_csv.loc[india_csv.state == 'Andhra Pradesh']\r\n",
        "#since there could be too many records for a single year, \r\n",
        "    #so I assume using the average value per year will be better\r\n",
        "apstate = apstate.groupby('year')[['so2', 'no2', 'rspm', 'spm']].mean()\r\n",
        "apstate.head()\r\n"
      ],
      "execution_count": 30,
      "outputs": [
        {
          "output_type": "execute_result",
          "data": {
            "text/html": [
              "<div>\n",
              "<style scoped>\n",
              "    .dataframe tbody tr th:only-of-type {\n",
              "        vertical-align: middle;\n",
              "    }\n",
              "\n",
              "    .dataframe tbody tr th {\n",
              "        vertical-align: top;\n",
              "    }\n",
              "\n",
              "    .dataframe thead th {\n",
              "        text-align: right;\n",
              "    }\n",
              "</style>\n",
              "<table border=\"1\" class=\"dataframe\">\n",
              "  <thead>\n",
              "    <tr style=\"text-align: right;\">\n",
              "      <th></th>\n",
              "      <th>so2</th>\n",
              "      <th>no2</th>\n",
              "      <th>rspm</th>\n",
              "      <th>spm</th>\n",
              "    </tr>\n",
              "    <tr>\n",
              "      <th>year</th>\n",
              "      <th></th>\n",
              "      <th></th>\n",
              "      <th></th>\n",
              "      <th></th>\n",
              "    </tr>\n",
              "  </thead>\n",
              "  <tbody>\n",
              "    <tr>\n",
              "      <th>1990</th>\n",
              "      <td>8.868966</td>\n",
              "      <td>15.296552</td>\n",
              "      <td>108.833091</td>\n",
              "      <td>165.469596</td>\n",
              "    </tr>\n",
              "    <tr>\n",
              "      <th>1991</th>\n",
              "      <td>10.811111</td>\n",
              "      <td>18.827778</td>\n",
              "      <td>108.833091</td>\n",
              "      <td>154.466208</td>\n",
              "    </tr>\n",
              "    <tr>\n",
              "      <th>1992</th>\n",
              "      <td>19.766194</td>\n",
              "      <td>36.012866</td>\n",
              "      <td>108.833091</td>\n",
              "      <td>210.643678</td>\n",
              "    </tr>\n",
              "    <tr>\n",
              "      <th>1993</th>\n",
              "      <td>8.544444</td>\n",
              "      <td>15.961111</td>\n",
              "      <td>108.833091</td>\n",
              "      <td>220.783480</td>\n",
              "    </tr>\n",
              "    <tr>\n",
              "      <th>1994</th>\n",
              "      <td>10.760317</td>\n",
              "      <td>18.273016</td>\n",
              "      <td>108.833091</td>\n",
              "      <td>177.965950</td>\n",
              "    </tr>\n",
              "  </tbody>\n",
              "</table>\n",
              "</div>"
            ],
            "text/plain": [
              "            so2        no2        rspm         spm\n",
              "year                                              \n",
              "1990   8.868966  15.296552  108.833091  165.469596\n",
              "1991  10.811111  18.827778  108.833091  154.466208\n",
              "1992  19.766194  36.012866  108.833091  210.643678\n",
              "1993   8.544444  15.961111  108.833091  220.783480\n",
              "1994  10.760317  18.273016  108.833091  177.965950"
            ]
          },
          "metadata": {
            "tags": []
          },
          "execution_count": 30
        }
      ]
    },
    {
      "cell_type": "code",
      "metadata": {
        "id": "6if5XQVF5VeQ",
        "colab": {
          "base_uri": "https://localhost:8080/",
          "height": 791
        },
        "outputId": "0de41dc9-b9c3-4bef-f8b5-a512bb277b75"
      },
      "source": [
        "# Display yearly trend graph (year vs. value) in pairs: (a) so2 and no2 (b) rspm and spm. \n",
        "# So, you will display TWO graphs altogether.\n",
        "\n",
        "#(a) so2 and no2 \n",
        "plt.figure(figsize=(8,6))\n",
        "plt.plot(apstate.index, \n",
        "         apstate['so2'], \n",
        "         linestyle = '-', \n",
        "         label = 'Sulphur dioxide')\n",
        "plt.plot(apstate.index, \n",
        "         apstate['no2'], \n",
        "         linestyle = '-.', \n",
        "         label = 'Nitrogen dioxide')\n",
        "plt.xlabel('year')\n",
        "plt.ylabel('in μg/m3')\n",
        "plt.title('Yearly Trend Between SO2 and NO2')\n",
        "plt.legend(loc= 'upper right')\n",
        "\n",
        "#(b) rspm and spm\n",
        "plt.figure(figsize=(8,6))\n",
        "plt.plot(apstate.index, \n",
        "         apstate['rspm'], \n",
        "         linestyle = ':', \n",
        "         label = 'Respirable Suspended Particulate Matter')\n",
        "plt.plot(apstate.index, \n",
        "         apstate['spm'], \n",
        "         linestyle = '--', \n",
        "         label = 'Suspended Particulate Matter')\n",
        "plt.xlabel('year')\n",
        "plt.ylabel('in μg/m3')\n",
        "plt.title('Yearly Trend Between RSPM and SPM')\n",
        "plt.legend(loc= 'best')\n",
        "plt.show()\n"
      ],
      "execution_count": 31,
      "outputs": [
        {
          "output_type": "display_data",
          "data": {
            "image/png": "[encoded data removed]",
            "text/plain": [
              "<Figure size 576x432 with 1 Axes>"
            ]
          },
          "metadata": {
            "tags": [],
            "needs_background": "light"
          }
        },
        {
          "output_type": "display_data",
          "data": {
            "image/png": "[encoded data removed]",
            "text/plain": [
              "<Figure size 576x432 with 1 Axes>"
            ]
          },
          "metadata": {
            "tags": [],
            "needs_background": "light"
          }
        }
      ]
    },
    {
      "cell_type": "markdown",
      "metadata": {
        "id": "ybVJ5zk-5VeQ"
      },
      "source": [
        "Do you find anythumg alarming? Explain what you can conclude from this Exploratory Data Analysis for the State of Andhra Pradesh. \n",
        "\n",
        "Yes, according to my analysis above, in regard to the State of Andhra Pradesh, I find that the conditions related to the content of sulphur dioxide and respirable suspended particulate matter are positively becoming better and better over the years. However, the content level of nitrogen dioxide is continue to be very unstable. In addition, the suspended particulate matter in the air has an unpleasant trend of continue to grow since the year of 2005. That may lead to an unavoidable increase of the suspended particulate matter in the future. \n",
        "\n",
        "\n",
        "Particulate matter is the sum of all solid and liquid particles suspended in air many of which are hazardous. This complex mixture includes both organic and inorganic particles, such as dust, pollen, soot, smoke, and liquid droplets. Located in the South of India, near ocean, the State of Andra Pradesh is benefited from being the major rice producer of India. But it may also be the major reason for the growth of SPM here. The pollutants include suspended particulate matter largely emitted from rice husk and straw combustion. Therefore, I recommend the local government of Andra Pradesh to pay attention on the producing and recyling process of their rice planting. "
      ]
    }
  ]
}