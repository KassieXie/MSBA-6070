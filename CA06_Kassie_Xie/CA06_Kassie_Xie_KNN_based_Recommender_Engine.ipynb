{
  "nbformat": 4,
  "nbformat_minor": 0,
  "metadata": {
    "colab": {
      "name": "CA06_Kassie_Xie_KNN_based_Recommender_Engine.ipynb",
      "provenance": [],
      "collapsed_sections": []
    },
    "kernelspec": {
      "name": "python3",
      "display_name": "Python 3"
    },
    "language_info": {
      "name": "python"
    }
  },
  "cells": [
    {
      "cell_type": "markdown",
      "metadata": {
        "id": "7jkaPb4LuwkC"
      },
      "source": [
        "#What question are we trying to answer?\n",
        "\n",
        "## Given a movies data set, what are the 5 most similar movies to a movie query?"
      ]
    },
    {
      "cell_type": "markdown",
      "metadata": {
        "id": "dY7F02RXu-6_"
      },
      "source": [
        "#Data Source and Contents\n",
        "\n",
        "We will use a small sub-set of the data extracted from the UCI’s IMDB data set.\n",
        "\n",
        "Data File Name: movies_recommendation_data.csv\n",
        "File Location: https://github.com/ArinB/CA05-kNN/raw/master/movies_recommendation_data.csv"
      ]
    },
    {
      "cell_type": "markdown",
      "metadata": {
        "id": "UbMe_x-4vbRD"
      },
      "source": [
        "The data contains **thirty movies**, including data for each movie across **seven genres** and their IMDB\n",
        "ratings **bold text**. \n",
        "\n",
        "The labels column values are all zeroes because we aren’t using this data set for classification or\n",
        "regression. We can ignore this column. The implementation assumes that all columns contain numerical data.\n",
        "\n",
        "\n",
        "Additionally, there are relationships among the movies that will not be accounted for (e.g. actors,\n",
        "directors, and themes) when using the KNN algorithm simply because the data that captures those\n",
        "relationships are missing from the data set. \n",
        "\n",
        "Consequently, when we run the KNN algorithm on our data, *similarity will be based solely on the included genres and the IMDB ratings of the movies*."
      ]
    },
    {
      "cell_type": "markdown",
      "metadata": {
        "id": "l9xw-lxCwJUf"
      },
      "source": [
        "#Building Recommender System\n",
        "\n",
        "We are building our own movie recommendation website which uses our Recommendation Engine at\n",
        "the back-end. \n",
        "\n",
        "We are going to build this back-end Recommendation Engine. \n",
        "\n",
        "##How things look like: \n",
        "Imagine a user is navigating our recommendation website, and he/she encounters a movie named “The Post”. The user\n",
        "is not sure if he/she wants to watch it, but its genres intrigue the user; he/she is curious about other similar movies. The user scrolls down to the “More Like This” section to see what recommendations our recommendation website will make, and the back-end algorithmic gears begin to turn.\n",
        "\n",
        "\n",
        "##Logics:\n",
        "Our website sends a request to its back-end for the 5 movies that are most similar to The Post. \n",
        "The backend has a recommendation data set exactly like ours. It begins by creating the row representation (better\n",
        "known as a feature vector) for The Post, then it runs a program similar to the one below to search for\n",
        "the 5 movies that are most similar to The Post, and finally sends the results back to the user at your\n",
        "website.\n",
        "\n",
        "\n",
        "###*Following is the genre information about the movie “The Post”*\n",
        "\n",
        "\n",
        "IMDB Rating = 7.2, Biography = Yes, Drama = Yes, Thriller = No, Comedy = No, Crime = No,\n",
        "Mystery = No, History = Yes\n"
      ]
    },
    {
      "cell_type": "code",
      "metadata": {
        "id": "snW3FSbjvape"
      },
      "source": [
        "#import packages \n",
        "import pandas as pd\n",
        "import numpy as np\n",
        "#classifier implementing the k-nearest neighbors vote\n",
        "from sklearn.neighbors import  KNeighborsClassifier \n",
        "#unsupervised learner for implementing neighbor searches\n",
        "from sklearn.neighbors import NearestNeighbors "
      ],
      "execution_count": 1,
      "outputs": []
    },
    {
      "cell_type": "code",
      "metadata": {
        "id": "P7UK258-uZHD"
      },
      "source": [
        "#read file into data frame\n",
        "df = pd.read_csv( 'https://github.com/ArinB/CA05-kNN/raw/master/movies_recommendation_data.csv')"
      ],
      "execution_count": 2,
      "outputs": []
    },
    {
      "cell_type": "code",
      "metadata": {
        "colab": {
          "base_uri": "https://localhost:8080/",
          "height": 252
        },
        "id": "SqmvVVt-yWTc",
        "outputId": "2f22c71f-98c9-49f7-b53d-4da7f4548a71"
      },
      "source": [
        "#display the top 5 rows of df\n",
        "df.head()"
      ],
      "execution_count": 3,
      "outputs": [
        {
          "output_type": "execute_result",
          "data": {
            "text/html": [
              "<div>\n",
              "<style scoped>\n",
              "    .dataframe tbody tr th:only-of-type {\n",
              "        vertical-align: middle;\n",
              "    }\n",
              "\n",
              "    .dataframe tbody tr th {\n",
              "        vertical-align: top;\n",
              "    }\n",
              "\n",
              "    .dataframe thead th {\n",
              "        text-align: right;\n",
              "    }\n",
              "</style>\n",
              "<table border=\"1\" class=\"dataframe\">\n",
              "  <thead>\n",
              "    <tr style=\"text-align: right;\">\n",
              "      <th></th>\n",
              "      <th>Movie ID</th>\n",
              "      <th>Movie Name</th>\n",
              "      <th>IMDB Rating</th>\n",
              "      <th>Biography</th>\n",
              "      <th>Drama</th>\n",
              "      <th>Thriller</th>\n",
              "      <th>Comedy</th>\n",
              "      <th>Crime</th>\n",
              "      <th>Mystery</th>\n",
              "      <th>History</th>\n",
              "      <th>Label</th>\n",
              "    </tr>\n",
              "  </thead>\n",
              "  <tbody>\n",
              "    <tr>\n",
              "      <th>0</th>\n",
              "      <td>58</td>\n",
              "      <td>The Imitation Game</td>\n",
              "      <td>8.0</td>\n",
              "      <td>1</td>\n",
              "      <td>1</td>\n",
              "      <td>1</td>\n",
              "      <td>0</td>\n",
              "      <td>0</td>\n",
              "      <td>0</td>\n",
              "      <td>0</td>\n",
              "      <td>0</td>\n",
              "    </tr>\n",
              "    <tr>\n",
              "      <th>1</th>\n",
              "      <td>8</td>\n",
              "      <td>Ex Machina</td>\n",
              "      <td>7.7</td>\n",
              "      <td>0</td>\n",
              "      <td>1</td>\n",
              "      <td>0</td>\n",
              "      <td>0</td>\n",
              "      <td>0</td>\n",
              "      <td>1</td>\n",
              "      <td>0</td>\n",
              "      <td>0</td>\n",
              "    </tr>\n",
              "    <tr>\n",
              "      <th>2</th>\n",
              "      <td>46</td>\n",
              "      <td>A Beautiful Mind</td>\n",
              "      <td>8.2</td>\n",
              "      <td>1</td>\n",
              "      <td>1</td>\n",
              "      <td>0</td>\n",
              "      <td>0</td>\n",
              "      <td>0</td>\n",
              "      <td>0</td>\n",
              "      <td>0</td>\n",
              "      <td>0</td>\n",
              "    </tr>\n",
              "    <tr>\n",
              "      <th>3</th>\n",
              "      <td>62</td>\n",
              "      <td>Good Will Hunting</td>\n",
              "      <td>8.3</td>\n",
              "      <td>0</td>\n",
              "      <td>1</td>\n",
              "      <td>0</td>\n",
              "      <td>0</td>\n",
              "      <td>0</td>\n",
              "      <td>0</td>\n",
              "      <td>0</td>\n",
              "      <td>0</td>\n",
              "    </tr>\n",
              "    <tr>\n",
              "      <th>4</th>\n",
              "      <td>97</td>\n",
              "      <td>Forrest Gump</td>\n",
              "      <td>8.8</td>\n",
              "      <td>0</td>\n",
              "      <td>1</td>\n",
              "      <td>0</td>\n",
              "      <td>0</td>\n",
              "      <td>0</td>\n",
              "      <td>0</td>\n",
              "      <td>0</td>\n",
              "      <td>0</td>\n",
              "    </tr>\n",
              "  </tbody>\n",
              "</table>\n",
              "</div>"
            ],
            "text/plain": [
              "   Movie ID          Movie Name  IMDB Rating  ...  Mystery  History  Label\n",
              "0        58  The Imitation Game          8.0  ...        0        0      0\n",
              "1         8          Ex Machina          7.7  ...        1        0      0\n",
              "2        46    A Beautiful Mind          8.2  ...        0        0      0\n",
              "3        62   Good Will Hunting          8.3  ...        0        0      0\n",
              "4        97        Forrest Gump          8.8  ...        0        0      0\n",
              "\n",
              "[5 rows x 11 columns]"
            ]
          },
          "metadata": {
            "tags": []
          },
          "execution_count": 3
        }
      ]
    },
    {
      "cell_type": "code",
      "metadata": {
        "colab": {
          "base_uri": "https://localhost:8080/",
          "height": 329
        },
        "id": "sJ8xiXxZyvZs",
        "outputId": "ce056d85-a9a7-4431-9b49-49150f65053b"
      },
      "source": [
        "#get the descriptive data of df\n",
        "df.describe()"
      ],
      "execution_count": 4,
      "outputs": [
        {
          "output_type": "execute_result",
          "data": {
            "text/html": [
              "<div>\n",
              "<style scoped>\n",
              "    .dataframe tbody tr th:only-of-type {\n",
              "        vertical-align: middle;\n",
              "    }\n",
              "\n",
              "    .dataframe tbody tr th {\n",
              "        vertical-align: top;\n",
              "    }\n",
              "\n",
              "    .dataframe thead th {\n",
              "        text-align: right;\n",
              "    }\n",
              "</style>\n",
              "<table border=\"1\" class=\"dataframe\">\n",
              "  <thead>\n",
              "    <tr style=\"text-align: right;\">\n",
              "      <th></th>\n",
              "      <th>Movie ID</th>\n",
              "      <th>IMDB Rating</th>\n",
              "      <th>Biography</th>\n",
              "      <th>Drama</th>\n",
              "      <th>Thriller</th>\n",
              "      <th>Comedy</th>\n",
              "      <th>Crime</th>\n",
              "      <th>Mystery</th>\n",
              "      <th>History</th>\n",
              "      <th>Label</th>\n",
              "    </tr>\n",
              "  </thead>\n",
              "  <tbody>\n",
              "    <tr>\n",
              "      <th>count</th>\n",
              "      <td>30.000000</td>\n",
              "      <td>30.000000</td>\n",
              "      <td>30.000000</td>\n",
              "      <td>30.000000</td>\n",
              "      <td>30.000000</td>\n",
              "      <td>30.000000</td>\n",
              "      <td>30.000000</td>\n",
              "      <td>30.000000</td>\n",
              "      <td>30.000000</td>\n",
              "      <td>30.0</td>\n",
              "    </tr>\n",
              "    <tr>\n",
              "      <th>mean</th>\n",
              "      <td>48.133333</td>\n",
              "      <td>7.696667</td>\n",
              "      <td>0.233333</td>\n",
              "      <td>0.600000</td>\n",
              "      <td>0.100000</td>\n",
              "      <td>0.100000</td>\n",
              "      <td>0.133333</td>\n",
              "      <td>0.100000</td>\n",
              "      <td>0.100000</td>\n",
              "      <td>0.0</td>\n",
              "    </tr>\n",
              "    <tr>\n",
              "      <th>std</th>\n",
              "      <td>29.288969</td>\n",
              "      <td>0.666169</td>\n",
              "      <td>0.430183</td>\n",
              "      <td>0.498273</td>\n",
              "      <td>0.305129</td>\n",
              "      <td>0.305129</td>\n",
              "      <td>0.345746</td>\n",
              "      <td>0.305129</td>\n",
              "      <td>0.305129</td>\n",
              "      <td>0.0</td>\n",
              "    </tr>\n",
              "    <tr>\n",
              "      <th>min</th>\n",
              "      <td>1.000000</td>\n",
              "      <td>5.900000</td>\n",
              "      <td>0.000000</td>\n",
              "      <td>0.000000</td>\n",
              "      <td>0.000000</td>\n",
              "      <td>0.000000</td>\n",
              "      <td>0.000000</td>\n",
              "      <td>0.000000</td>\n",
              "      <td>0.000000</td>\n",
              "      <td>0.0</td>\n",
              "    </tr>\n",
              "    <tr>\n",
              "      <th>25%</th>\n",
              "      <td>27.750000</td>\n",
              "      <td>7.300000</td>\n",
              "      <td>0.000000</td>\n",
              "      <td>0.000000</td>\n",
              "      <td>0.000000</td>\n",
              "      <td>0.000000</td>\n",
              "      <td>0.000000</td>\n",
              "      <td>0.000000</td>\n",
              "      <td>0.000000</td>\n",
              "      <td>0.0</td>\n",
              "    </tr>\n",
              "    <tr>\n",
              "      <th>50%</th>\n",
              "      <td>48.500000</td>\n",
              "      <td>7.750000</td>\n",
              "      <td>0.000000</td>\n",
              "      <td>1.000000</td>\n",
              "      <td>0.000000</td>\n",
              "      <td>0.000000</td>\n",
              "      <td>0.000000</td>\n",
              "      <td>0.000000</td>\n",
              "      <td>0.000000</td>\n",
              "      <td>0.0</td>\n",
              "    </tr>\n",
              "    <tr>\n",
              "      <th>75%</th>\n",
              "      <td>64.250000</td>\n",
              "      <td>8.175000</td>\n",
              "      <td>0.000000</td>\n",
              "      <td>1.000000</td>\n",
              "      <td>0.000000</td>\n",
              "      <td>0.000000</td>\n",
              "      <td>0.000000</td>\n",
              "      <td>0.000000</td>\n",
              "      <td>0.000000</td>\n",
              "      <td>0.0</td>\n",
              "    </tr>\n",
              "    <tr>\n",
              "      <th>max</th>\n",
              "      <td>98.000000</td>\n",
              "      <td>8.800000</td>\n",
              "      <td>1.000000</td>\n",
              "      <td>1.000000</td>\n",
              "      <td>1.000000</td>\n",
              "      <td>1.000000</td>\n",
              "      <td>1.000000</td>\n",
              "      <td>1.000000</td>\n",
              "      <td>1.000000</td>\n",
              "      <td>0.0</td>\n",
              "    </tr>\n",
              "  </tbody>\n",
              "</table>\n",
              "</div>"
            ],
            "text/plain": [
              "        Movie ID  IMDB Rating  Biography  ...    Mystery    History  Label\n",
              "count  30.000000    30.000000  30.000000  ...  30.000000  30.000000   30.0\n",
              "mean   48.133333     7.696667   0.233333  ...   0.100000   0.100000    0.0\n",
              "std    29.288969     0.666169   0.430183  ...   0.305129   0.305129    0.0\n",
              "min     1.000000     5.900000   0.000000  ...   0.000000   0.000000    0.0\n",
              "25%    27.750000     7.300000   0.000000  ...   0.000000   0.000000    0.0\n",
              "50%    48.500000     7.750000   0.000000  ...   0.000000   0.000000    0.0\n",
              "75%    64.250000     8.175000   0.000000  ...   0.000000   0.000000    0.0\n",
              "max    98.000000     8.800000   1.000000  ...   1.000000   1.000000    0.0\n",
              "\n",
              "[8 rows x 10 columns]"
            ]
          },
          "metadata": {
            "tags": []
          },
          "execution_count": 4
        }
      ]
    },
    {
      "cell_type": "code",
      "metadata": {
        "colab": {
          "base_uri": "https://localhost:8080/"
        },
        "id": "IhdsAyiTy0ph",
        "outputId": "9af2d6e4-581c-443f-e9e4-0f2d63eb381b"
      },
      "source": [
        "#get more info about cols\n",
        "df.info()"
      ],
      "execution_count": 5,
      "outputs": [
        {
          "output_type": "stream",
          "text": [
            "<class 'pandas.core.frame.DataFrame'>\n",
            "RangeIndex: 30 entries, 0 to 29\n",
            "Data columns (total 11 columns):\n",
            " #   Column       Non-Null Count  Dtype  \n",
            "---  ------       --------------  -----  \n",
            " 0   Movie ID     30 non-null     int64  \n",
            " 1   Movie Name   30 non-null     object \n",
            " 2   IMDB Rating  30 non-null     float64\n",
            " 3   Biography    30 non-null     int64  \n",
            " 4   Drama        30 non-null     int64  \n",
            " 5   Thriller     30 non-null     int64  \n",
            " 6   Comedy       30 non-null     int64  \n",
            " 7   Crime        30 non-null     int64  \n",
            " 8   Mystery      30 non-null     int64  \n",
            " 9   History      30 non-null     int64  \n",
            " 10  Label        30 non-null     int64  \n",
            "dtypes: float64(1), int64(9), object(1)\n",
            "memory usage: 2.7+ KB\n"
          ],
          "name": "stdout"
        }
      ]
    },
    {
      "cell_type": "markdown",
      "metadata": {
        "id": "BIL6LV4vzNfW"
      },
      "source": [
        "Since this is a pretty clean data frame, we can start to build the recommendation engine."
      ]
    },
    {
      "cell_type": "code",
      "metadata": {
        "colab": {
          "base_uri": "https://localhost:8080/"
        },
        "id": "ekZXnK9BzbPR",
        "outputId": "510d1e0c-1fbc-411a-c3f1-e32c678b4085"
      },
      "source": [
        "\n",
        "#define 'X' variable and 'y' variable \n",
        "    #We will ignore 'Label' col from previously stated\n",
        "X, y = df.drop(['Movie Name','Label','Movie ID'],axis=1), df['Movie Name']\n",
        "\n",
        "#display our defined X and y\n",
        "print('X variable: \\n', X[:5])\n",
        "print('y variable: \\n', y[:5])"
      ],
      "execution_count": 6,
      "outputs": [
        {
          "output_type": "stream",
          "text": [
            "X variable: \n",
            "    IMDB Rating  Biography  Drama  Thriller  Comedy  Crime  Mystery  History\n",
            "0          8.0          1      1         1       0      0        0        0\n",
            "1          7.7          0      1         0       0      0        1        0\n",
            "2          8.2          1      1         0       0      0        0        0\n",
            "3          8.3          0      1         0       0      0        0        0\n",
            "4          8.8          0      1         0       0      0        0        0\n",
            "y variable: \n",
            " 0    The Imitation Game\n",
            "1            Ex Machina\n",
            "2      A Beautiful Mind\n",
            "3     Good Will Hunting\n",
            "4          Forrest Gump\n",
            "Name: Movie Name, dtype: object\n"
          ],
          "name": "stdout"
        }
      ]
    },
    {
      "cell_type": "code",
      "metadata": {
        "colab": {
          "base_uri": "https://localhost:8080/"
        },
        "id": "n5X9wYk6_K_G",
        "outputId": "c1d76ee8-cbc2-40ad-9872-5cb123d0c45d"
      },
      "source": [
        "\n",
        "#fitting on sparse input will override the setting of this parameter, using brute force\n",
        "knn = NearestNeighbors(n_neighbors=5, algorithm='brute') \n",
        "knn.fit(X,y)"
      ],
      "execution_count": 7,
      "outputs": [
        {
          "output_type": "execute_result",
          "data": {
            "text/plain": [
              "NearestNeighbors(algorithm='brute', leaf_size=30, metric='minkowski',\n",
              "                 metric_params=None, n_jobs=None, n_neighbors=5, p=2,\n",
              "                 radius=1.0)"
            ]
          },
          "metadata": {
            "tags": []
          },
          "execution_count": 7
        }
      ]
    },
    {
      "cell_type": "code",
      "metadata": {
        "colab": {
          "base_uri": "https://localhost:8080/"
        },
        "id": "aUCsysZVCuYd",
        "outputId": "a22f0b43-8ddf-4a38-dcd1-75706ee41b0e"
      },
      "source": [
        "#IMDB Rating = 7.2, Biography = Yes, Drama = Yes, Thriller = No, Comedy = No, \n",
        "    #Crime = No, Mystery = No, History = Yes\n",
        "#print(knn.kneighbors([[7.2,1,1,0,0,0,0,1]]))\n",
        "knn.kneighbors([[7.2,1,1,0,0,0,0,1]], 5, return_distance=False)"
      ],
      "execution_count": 8,
      "outputs": [
        {
          "output_type": "execute_result",
          "data": {
            "text/plain": [
              "array([[28, 27, 29, 16,  9]])"
            ]
          },
          "metadata": {
            "tags": []
          },
          "execution_count": 8
        }
      ]
    },
    {
      "cell_type": "code",
      "metadata": {
        "colab": {
          "base_uri": "https://localhost:8080/"
        },
        "id": "lm2o35QUFW6Z",
        "outputId": "e376ff02-caf9-476d-b567-4010a0dd5c6b"
      },
      "source": [
        "indices=knn.kneighbors([[7.2,1,1,0,0,0,0,1]], 5, return_distance=False)\n",
        "#raw_idx = sorted(list(zip(indices,squeeze().tolist(),distances.squeeze().tolist())),\n",
        "#                 key = lambda x: x[1])[:0:-1]\n",
        "\n",
        "print('More Like This: ')\n",
        "\n",
        "#return a copy of the array collapsed into one dimension\n",
        "indices.flatten() #array([28, 27, 29, 16,  9])\n",
        "for i in range(0,5):\n",
        "    print('{0}:{1}'.format(i+1, df['Movie Name'].iloc[indices.flatten()[i]]))\n",
        "\n",
        "\n",
        "#def recommends(i):\n",
        "#    title = knn.kneighbors_graph([i]).indices\n",
        "#    print('Top 5 Recommendations', title)\n"
      ],
      "execution_count": 9,
      "outputs": [
        {
          "output_type": "stream",
          "text": [
            "More Like This: \n",
            "1:12 Years a Slave\n",
            "2:Hacksaw Ridge\n",
            "3:Queen of Katwe\n",
            "4:The Wind Rises\n",
            "5:The Karate Kid\n"
          ],
          "name": "stdout"
        }
      ]
    },
    {
      "cell_type": "code",
      "metadata": {
        "colab": {
          "base_uri": "https://localhost:8080/"
        },
        "id": "ekQVELhAdAe7",
        "outputId": "234bda6c-1f3a-48b0-ae64-076199dbf60a"
      },
      "source": [
        "#Another way (maybe)\n",
        "\n",
        "#create KNN classifiers \n",
        "knn5 = KNeighborsClassifier(n_neighbors=5)\n",
        "knn5.fit(X,y)\n",
        "\n",
        "#input the same criteria and get predicated output\n",
        "knn5.predict([[7.2,1,1,0,0,0,0,1]])\n",
        "knn5.predict_proba([[7.2,1,1,0,0,0,0,1]])"
      ],
      "execution_count": 10,
      "outputs": [
        {
          "output_type": "execute_result",
          "data": {
            "text/plain": [
              "array([[0.2, 0. , 0. , 0.2, 0. , 0. , 0. , 0. , 0. , 0. , 0. , 0. , 0. ,\n",
              "        0.2, 0. , 0. , 0.2, 0. , 0. , 0. , 0. , 0. , 0. , 0. , 0. , 0. ,\n",
              "        0.2, 0. , 0. , 0. ]])"
            ]
          },
          "metadata": {
            "tags": []
          },
          "execution_count": 10
        }
      ]
    },
    {
      "cell_type": "code",
      "metadata": {
        "colab": {
          "base_uri": "https://localhost:8080/"
        },
        "id": "Lb2wWeyUfEil",
        "outputId": "539b5c8c-3823-4491-c4f8-45afe55e47f8"
      },
      "source": [
        "knn5.kneighbors([[7.2,1,1,0,0,0,0,1]],return_distance=False)"
      ],
      "execution_count": 11,
      "outputs": [
        {
          "output_type": "execute_result",
          "data": {
            "text/plain": [
              "array([[28, 27, 29, 16,  2]])"
            ]
          },
          "metadata": {
            "tags": []
          },
          "execution_count": 11
        }
      ]
    },
    {
      "cell_type": "code",
      "metadata": {
        "colab": {
          "base_uri": "https://localhost:8080/"
        },
        "id": "ivq10Pc-gVYy",
        "outputId": "6e9d51ec-de3e-44ba-8d8d-7bc2c8f6a0d1"
      },
      "source": [
        "#display the recommendation list again \n",
        " \n",
        "#return the indices of the training data\n",
        "indices5=knn5.kneighbors([[7.2,1,1,0,0,0,0,1]],return_distance=False)\n",
        "\n",
        "print('More Like This: ')\n",
        "\n",
        "#return a copy of the array collapsed into one dimension\n",
        "indices5.flatten() #array([28, 27, 29, 16,  9])\n",
        "for i in range(0,5):\n",
        "    print('{0}:{1}'.format(i+1, df['Movie Name'].iloc[indices5.flatten()[i]]))"
      ],
      "execution_count": 12,
      "outputs": [
        {
          "output_type": "stream",
          "text": [
            "More Like This: \n",
            "1:12 Years a Slave\n",
            "2:Hacksaw Ridge\n",
            "3:Queen of Katwe\n",
            "4:The Wind Rises\n",
            "5:A Beautiful Mind\n"
          ],
          "name": "stdout"
        }
      ]
    },
    {
      "cell_type": "markdown",
      "metadata": {
        "id": "1ZT7bq07xhfP"
      },
      "source": [
        "#What recommendations he/she will see?\n",
        "\n",
        "The user might see two results from our recommendation engine when he/she encounters “The Post”: \n",
        "\n",
        "\n",
        "1. 12 Years a Slave\n",
        "2. Hacksaw Ridge\n",
        "3. Queen of Katwe\n",
        "4. The Wind Rises\n",
        "5. The Karate Kid\n",
        "\n",
        "OR\n",
        "\n",
        "1. 12 Years a Slave\n",
        "2. Hacksaw Ridge\n",
        "3. Queen of Katwe\n",
        "4. The Wind Rises\n",
        "5. A Beautiful Mind\n",
        "\n"
      ]
    }
  ]
}